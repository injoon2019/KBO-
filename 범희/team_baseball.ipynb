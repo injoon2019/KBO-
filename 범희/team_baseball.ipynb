{
 "metadata": {
  "language_info": {
   "codemirror_mode": {
    "name": "ipython",
    "version": 3
   },
   "file_extension": ".py",
   "mimetype": "text/x-python",
   "name": "python",
   "nbconvert_exporter": "python",
   "pygments_lexer": "ipython3",
   "version": "3.8.3-final"
  },
  "orig_nbformat": 2,
  "kernelspec": {
   "name": "python_defaultSpec_1599064277544",
   "display_name": "Python 3.8.3 64-bit ('base': conda)"
  }
 },
 "nbformat": 4,
 "nbformat_minor": 2,
 "cells": [
  {
   "cell_type": "code",
   "execution_count": 1,
   "metadata": {},
   "outputs": [],
   "source": [
    "from matplotlib import font_manager, rc\n",
    "font_name = font_manager.FontProperties(fname=\"c:/Windows/Fonts/malgun.ttf\").get_name()\n",
    "rc('font', family=font_name)"
   ]
  },
  {
   "cell_type": "code",
   "execution_count": 2,
   "metadata": {},
   "outputs": [],
   "source": [
    "from bs4 import BeautifulSoup\n",
    "import re"
   ]
  },
  {
   "cell_type": "code",
   "execution_count": 3,
   "metadata": {},
   "outputs": [],
   "source": [
    "import pandas as pd\n",
    "import numpy as np\n",
    "import matplotlib.pyplot as plt\n",
    "import seaborn as sns\n",
    "import time\n",
    "from datetime import datetime\n",
    "import requests"
   ]
  },
  {
   "cell_type": "code",
   "execution_count": 4,
   "metadata": {},
   "outputs": [],
   "source": [
    "# KBO 팀별 타자기록 크롤링\n",
    "url = f\"https://www.koreabaseball.com/Record/Team/Hitter/Basic2.aspx\"\n",
    "\n",
    "response = requests.get(url)\n",
    "soup = BeautifulSoup(response.text, 'html.parser')\n",
    "\n",
    "Player_infos = soup.find_all(\"tr\")\n",
    "\n",
    "list_columns = [\"순위\", \"팀명\", \"AVG\", \"BB\", \"IBB\", \"HBP\", \"SO\", \"GDP\", \"SLG\", \"OBP\", \"OPS\", \"MH\", \"RISP\", \"PH-BA\"]\n",
    "team_hitter = pd.DataFrame(columns=list_columns)\n",
    "\n",
    "bodys = soup.select(\"div[id=cphContents_cphContents_cphContents_udpContent] > div[class=record_result] > table > tbody > tr\")\n",
    "\n",
    "\n",
    "for pl_infos in bodys:\n",
    "\n",
    "    list_tds = pl_infos.select(\"td\")\n",
    "\n",
    "    row_datas = []\n",
    "    for td in list_tds:\n",
    "        row_datas.append(td.text)\n",
    "\n",
    "    series = pd.Series(row_datas, index=list_columns)\n",
    "    team_hitter = team_hitter.append(series, ignore_index=True)"
   ]
  },
  {
   "cell_type": "code",
   "execution_count": 5,
   "metadata": {},
   "outputs": [
    {
     "output_type": "execute_result",
     "data": {
      "text/plain": "   순위   팀명    AVG   BB IBB HBP   SO GDP    SLG    OBP    OPS   MH   RISP  \\\n0   1   두산  0.300  350  14  48  556  95  0.438  0.367  0.805   97  0.304   \n1   2   NC  0.291  329  11  66  647  71  0.470  0.363  0.833   94  0.334   \n2   3   LG  0.284  337  15  51  666  79  0.444  0.354  0.798   98  0.329   \n3   4   KT  0.283  351   9  30  722  68  0.440  0.355  0.795   94  0.278   \n4   5   롯데  0.275  335  13  38  549  88  0.403  0.348  0.751   92  0.272   \n5   6   키움  0.273  423  12  55  700  81  0.423  0.358  0.781  101  0.290   \n6   7  KIA  0.272  348   5  44  653  70  0.406  0.350  0.756   94  0.289   \n7   8   삼성  0.267  313   7  47  652  76  0.395  0.337  0.732   96  0.277   \n8   9   SK  0.253  353  10  47  668  80  0.384  0.333  0.717   97  0.252   \n9  10   한화  0.235  310   4  53  712  87  0.326  0.312  0.638   95  0.233   \n\n   PH-BA  \n0  0.241  \n1  0.291  \n2  0.200  \n3  0.194  \n4  0.216  \n5  0.273  \n6  0.258  \n7  0.262  \n8  0.236  \n9  0.203  ",
      "text/html": "<div>\n<style scoped>\n    .dataframe tbody tr th:only-of-type {\n        vertical-align: middle;\n    }\n\n    .dataframe tbody tr th {\n        vertical-align: top;\n    }\n\n    .dataframe thead th {\n        text-align: right;\n    }\n</style>\n<table border=\"1\" class=\"dataframe\">\n  <thead>\n    <tr style=\"text-align: right;\">\n      <th></th>\n      <th>순위</th>\n      <th>팀명</th>\n      <th>AVG</th>\n      <th>BB</th>\n      <th>IBB</th>\n      <th>HBP</th>\n      <th>SO</th>\n      <th>GDP</th>\n      <th>SLG</th>\n      <th>OBP</th>\n      <th>OPS</th>\n      <th>MH</th>\n      <th>RISP</th>\n      <th>PH-BA</th>\n    </tr>\n  </thead>\n  <tbody>\n    <tr>\n      <th>0</th>\n      <td>1</td>\n      <td>두산</td>\n      <td>0.300</td>\n      <td>350</td>\n      <td>14</td>\n      <td>48</td>\n      <td>556</td>\n      <td>95</td>\n      <td>0.438</td>\n      <td>0.367</td>\n      <td>0.805</td>\n      <td>97</td>\n      <td>0.304</td>\n      <td>0.241</td>\n    </tr>\n    <tr>\n      <th>1</th>\n      <td>2</td>\n      <td>NC</td>\n      <td>0.291</td>\n      <td>329</td>\n      <td>11</td>\n      <td>66</td>\n      <td>647</td>\n      <td>71</td>\n      <td>0.470</td>\n      <td>0.363</td>\n      <td>0.833</td>\n      <td>94</td>\n      <td>0.334</td>\n      <td>0.291</td>\n    </tr>\n    <tr>\n      <th>2</th>\n      <td>3</td>\n      <td>LG</td>\n      <td>0.284</td>\n      <td>337</td>\n      <td>15</td>\n      <td>51</td>\n      <td>666</td>\n      <td>79</td>\n      <td>0.444</td>\n      <td>0.354</td>\n      <td>0.798</td>\n      <td>98</td>\n      <td>0.329</td>\n      <td>0.200</td>\n    </tr>\n    <tr>\n      <th>3</th>\n      <td>4</td>\n      <td>KT</td>\n      <td>0.283</td>\n      <td>351</td>\n      <td>9</td>\n      <td>30</td>\n      <td>722</td>\n      <td>68</td>\n      <td>0.440</td>\n      <td>0.355</td>\n      <td>0.795</td>\n      <td>94</td>\n      <td>0.278</td>\n      <td>0.194</td>\n    </tr>\n    <tr>\n      <th>4</th>\n      <td>5</td>\n      <td>롯데</td>\n      <td>0.275</td>\n      <td>335</td>\n      <td>13</td>\n      <td>38</td>\n      <td>549</td>\n      <td>88</td>\n      <td>0.403</td>\n      <td>0.348</td>\n      <td>0.751</td>\n      <td>92</td>\n      <td>0.272</td>\n      <td>0.216</td>\n    </tr>\n    <tr>\n      <th>5</th>\n      <td>6</td>\n      <td>키움</td>\n      <td>0.273</td>\n      <td>423</td>\n      <td>12</td>\n      <td>55</td>\n      <td>700</td>\n      <td>81</td>\n      <td>0.423</td>\n      <td>0.358</td>\n      <td>0.781</td>\n      <td>101</td>\n      <td>0.290</td>\n      <td>0.273</td>\n    </tr>\n    <tr>\n      <th>6</th>\n      <td>7</td>\n      <td>KIA</td>\n      <td>0.272</td>\n      <td>348</td>\n      <td>5</td>\n      <td>44</td>\n      <td>653</td>\n      <td>70</td>\n      <td>0.406</td>\n      <td>0.350</td>\n      <td>0.756</td>\n      <td>94</td>\n      <td>0.289</td>\n      <td>0.258</td>\n    </tr>\n    <tr>\n      <th>7</th>\n      <td>8</td>\n      <td>삼성</td>\n      <td>0.267</td>\n      <td>313</td>\n      <td>7</td>\n      <td>47</td>\n      <td>652</td>\n      <td>76</td>\n      <td>0.395</td>\n      <td>0.337</td>\n      <td>0.732</td>\n      <td>96</td>\n      <td>0.277</td>\n      <td>0.262</td>\n    </tr>\n    <tr>\n      <th>8</th>\n      <td>9</td>\n      <td>SK</td>\n      <td>0.253</td>\n      <td>353</td>\n      <td>10</td>\n      <td>47</td>\n      <td>668</td>\n      <td>80</td>\n      <td>0.384</td>\n      <td>0.333</td>\n      <td>0.717</td>\n      <td>97</td>\n      <td>0.252</td>\n      <td>0.236</td>\n    </tr>\n    <tr>\n      <th>9</th>\n      <td>10</td>\n      <td>한화</td>\n      <td>0.235</td>\n      <td>310</td>\n      <td>4</td>\n      <td>53</td>\n      <td>712</td>\n      <td>87</td>\n      <td>0.326</td>\n      <td>0.312</td>\n      <td>0.638</td>\n      <td>95</td>\n      <td>0.233</td>\n      <td>0.203</td>\n    </tr>\n  </tbody>\n</table>\n</div>"
     },
     "metadata": {},
     "execution_count": 5
    }
   ],
   "source": [
    "team_hitter"
   ]
  },
  {
   "cell_type": "code",
   "execution_count": 6,
   "metadata": {},
   "outputs": [],
   "source": [
    "# KBO 팀별 투수기록 크롤링\n",
    "url = f\"https://www.koreabaseball.com/Record/Team/Pitcher/Basic1.aspx\"\n",
    "\n",
    "response = requests.get(url)\n",
    "soup = BeautifulSoup(response.text, 'html.parser')\n",
    "\n",
    "Player_infos = soup.find_all(\"tr\")\n",
    "\n",
    "list_columns = [\"순위\", \"팀명\", \"ERA\", \"G\", \"W\", \"L\", \"SV\", \"HLD\", \"WPCT\", \"IP\", \"H\", \"HR\", \"BB\", \"HBP\", \"SO\", \"R\", \"ER\", \"WHIP\"]\n",
    "team_pitcher = pd.DataFrame(columns=list_columns)\n",
    "\n",
    "bodys = soup.select(\"div[id=cphContents_cphContents_cphContents_udpContent] > div[class=record_result] > table > tbody > tr\")\n",
    "\n",
    "\n",
    "for pl_infos in bodys:\n",
    "\n",
    "    list_tds = pl_infos.select(\"td\")\n",
    "\n",
    "    row_datas = []\n",
    "    for td in list_tds:\n",
    "        row_datas.append(td.text)\n",
    "\n",
    "    series = pd.Series(row_datas, index=list_columns)\n",
    "    team_pitcher = team_pitcher.append(series, ignore_index=True)"
   ]
  },
  {
   "cell_type": "code",
   "execution_count": 7,
   "metadata": {},
   "outputs": [
    {
     "output_type": "execute_result",
     "data": {
      "text/plain": "   순위   팀명   ERA    G   W   L  SV HLD   WPCT       IP    H   HR   BB HBP   SO  \\\n0   1   키움  4.37  101  60  41  30  63  0.594  899 1/3  937   92  287  53  671   \n1   2   LG  4.45   98  56  40  21  44  0.583  877 1/3  907   89  318  56  701   \n2   3   롯데  4.61   92  47  44  15  44  0.516  819 1/3  852   96  292  33  623   \n3   4   두산  4.67   97  53  41  17  35  0.564      866  981   76  330  41  643   \n4   5   KT  4.71   94  50  43  21  47  0.538  839 2/3  886   83  343  40  559   \n5   6  KIA  4.72   94  49  45  21  49  0.521      824  877   76  330  37  696   \n6   7   NC  4.74   94  57  35  21  48  0.620  847 2/3  845  103  347  52  675   \n7   8   삼성  4.74   96  43  52  19  58  0.453  841 1/3  870   96  369  48  585   \n8   9   한화  5.41   95  26  68  13  31  0.277  830 1/3  946  118  395  60  703   \n9  10   SK  5.62   97  32  64  14  38  0.333  845 2/3  924  107  438  59  669   \n\n     R   ER  WHIP  \n0  474  437  1.36  \n1  475  434  1.40  \n2  458  420  1.40  \n3  504  449  1.51  \n4  475  439  1.46  \n5  480  432  1.46  \n6  471  446  1.41  \n7  497  443  1.47  \n8  563  499  1.62  \n9  580  528  1.61  ",
      "text/html": "<div>\n<style scoped>\n    .dataframe tbody tr th:only-of-type {\n        vertical-align: middle;\n    }\n\n    .dataframe tbody tr th {\n        vertical-align: top;\n    }\n\n    .dataframe thead th {\n        text-align: right;\n    }\n</style>\n<table border=\"1\" class=\"dataframe\">\n  <thead>\n    <tr style=\"text-align: right;\">\n      <th></th>\n      <th>순위</th>\n      <th>팀명</th>\n      <th>ERA</th>\n      <th>G</th>\n      <th>W</th>\n      <th>L</th>\n      <th>SV</th>\n      <th>HLD</th>\n      <th>WPCT</th>\n      <th>IP</th>\n      <th>H</th>\n      <th>HR</th>\n      <th>BB</th>\n      <th>HBP</th>\n      <th>SO</th>\n      <th>R</th>\n      <th>ER</th>\n      <th>WHIP</th>\n    </tr>\n  </thead>\n  <tbody>\n    <tr>\n      <th>0</th>\n      <td>1</td>\n      <td>키움</td>\n      <td>4.37</td>\n      <td>101</td>\n      <td>60</td>\n      <td>41</td>\n      <td>30</td>\n      <td>63</td>\n      <td>0.594</td>\n      <td>899 1/3</td>\n      <td>937</td>\n      <td>92</td>\n      <td>287</td>\n      <td>53</td>\n      <td>671</td>\n      <td>474</td>\n      <td>437</td>\n      <td>1.36</td>\n    </tr>\n    <tr>\n      <th>1</th>\n      <td>2</td>\n      <td>LG</td>\n      <td>4.45</td>\n      <td>98</td>\n      <td>56</td>\n      <td>40</td>\n      <td>21</td>\n      <td>44</td>\n      <td>0.583</td>\n      <td>877 1/3</td>\n      <td>907</td>\n      <td>89</td>\n      <td>318</td>\n      <td>56</td>\n      <td>701</td>\n      <td>475</td>\n      <td>434</td>\n      <td>1.40</td>\n    </tr>\n    <tr>\n      <th>2</th>\n      <td>3</td>\n      <td>롯데</td>\n      <td>4.61</td>\n      <td>92</td>\n      <td>47</td>\n      <td>44</td>\n      <td>15</td>\n      <td>44</td>\n      <td>0.516</td>\n      <td>819 1/3</td>\n      <td>852</td>\n      <td>96</td>\n      <td>292</td>\n      <td>33</td>\n      <td>623</td>\n      <td>458</td>\n      <td>420</td>\n      <td>1.40</td>\n    </tr>\n    <tr>\n      <th>3</th>\n      <td>4</td>\n      <td>두산</td>\n      <td>4.67</td>\n      <td>97</td>\n      <td>53</td>\n      <td>41</td>\n      <td>17</td>\n      <td>35</td>\n      <td>0.564</td>\n      <td>866</td>\n      <td>981</td>\n      <td>76</td>\n      <td>330</td>\n      <td>41</td>\n      <td>643</td>\n      <td>504</td>\n      <td>449</td>\n      <td>1.51</td>\n    </tr>\n    <tr>\n      <th>4</th>\n      <td>5</td>\n      <td>KT</td>\n      <td>4.71</td>\n      <td>94</td>\n      <td>50</td>\n      <td>43</td>\n      <td>21</td>\n      <td>47</td>\n      <td>0.538</td>\n      <td>839 2/3</td>\n      <td>886</td>\n      <td>83</td>\n      <td>343</td>\n      <td>40</td>\n      <td>559</td>\n      <td>475</td>\n      <td>439</td>\n      <td>1.46</td>\n    </tr>\n    <tr>\n      <th>5</th>\n      <td>6</td>\n      <td>KIA</td>\n      <td>4.72</td>\n      <td>94</td>\n      <td>49</td>\n      <td>45</td>\n      <td>21</td>\n      <td>49</td>\n      <td>0.521</td>\n      <td>824</td>\n      <td>877</td>\n      <td>76</td>\n      <td>330</td>\n      <td>37</td>\n      <td>696</td>\n      <td>480</td>\n      <td>432</td>\n      <td>1.46</td>\n    </tr>\n    <tr>\n      <th>6</th>\n      <td>7</td>\n      <td>NC</td>\n      <td>4.74</td>\n      <td>94</td>\n      <td>57</td>\n      <td>35</td>\n      <td>21</td>\n      <td>48</td>\n      <td>0.620</td>\n      <td>847 2/3</td>\n      <td>845</td>\n      <td>103</td>\n      <td>347</td>\n      <td>52</td>\n      <td>675</td>\n      <td>471</td>\n      <td>446</td>\n      <td>1.41</td>\n    </tr>\n    <tr>\n      <th>7</th>\n      <td>8</td>\n      <td>삼성</td>\n      <td>4.74</td>\n      <td>96</td>\n      <td>43</td>\n      <td>52</td>\n      <td>19</td>\n      <td>58</td>\n      <td>0.453</td>\n      <td>841 1/3</td>\n      <td>870</td>\n      <td>96</td>\n      <td>369</td>\n      <td>48</td>\n      <td>585</td>\n      <td>497</td>\n      <td>443</td>\n      <td>1.47</td>\n    </tr>\n    <tr>\n      <th>8</th>\n      <td>9</td>\n      <td>한화</td>\n      <td>5.41</td>\n      <td>95</td>\n      <td>26</td>\n      <td>68</td>\n      <td>13</td>\n      <td>31</td>\n      <td>0.277</td>\n      <td>830 1/3</td>\n      <td>946</td>\n      <td>118</td>\n      <td>395</td>\n      <td>60</td>\n      <td>703</td>\n      <td>563</td>\n      <td>499</td>\n      <td>1.62</td>\n    </tr>\n    <tr>\n      <th>9</th>\n      <td>10</td>\n      <td>SK</td>\n      <td>5.62</td>\n      <td>97</td>\n      <td>32</td>\n      <td>64</td>\n      <td>14</td>\n      <td>38</td>\n      <td>0.333</td>\n      <td>845 2/3</td>\n      <td>924</td>\n      <td>107</td>\n      <td>438</td>\n      <td>59</td>\n      <td>669</td>\n      <td>580</td>\n      <td>528</td>\n      <td>1.61</td>\n    </tr>\n  </tbody>\n</table>\n</div>"
     },
     "metadata": {},
     "execution_count": 7
    }
   ],
   "source": [
    "team_pitcher"
   ]
  },
  {
   "cell_type": "code",
   "execution_count": 8,
   "metadata": {},
   "outputs": [],
   "source": [
    "# KBO 팀별 수비기록 크롤링\n",
    "url = f\"https://www.koreabaseball.com/Record/Team/Defense/Basic.aspx\"\n",
    "\n",
    "response = requests.get(url)\n",
    "soup = BeautifulSoup(response.text, 'html.parser')\n",
    "\n",
    "Player_infos = soup.find_all(\"tr\")\n",
    "\n",
    "list_columns = [\"순위\", \"팀명\", \"G\", \"E\", \"PKO\", \"PO\", \"A\", \"DP\", \"FPCT\", \"PB\", \"SB\", \"CS\", \"CS%\"]\n",
    "team_defense = pd.DataFrame(columns=list_columns)\n",
    "\n",
    "bodys = soup.select(\"div[id=cphContents_cphContents_cphContents_udpContent] > div[class=record_result] > table > tbody > tr\")\n",
    "\n",
    "\n",
    "for pl_infos in bodys:\n",
    "\n",
    "    list_tds = pl_infos.select(\"td\")\n",
    "\n",
    "    row_datas = []\n",
    "    for td in list_tds:\n",
    "        row_datas.append(td.text)\n",
    "\n",
    "    series = pd.Series(row_datas, index=list_columns)\n",
    "    team_defense = team_defense.append(series, ignore_index=True)"
   ]
  },
  {
   "cell_type": "code",
   "execution_count": 9,
   "metadata": {},
   "outputs": [
    {
     "output_type": "execute_result",
     "data": {
      "text/plain": "   순위   팀명    G   E PKO    PO     A   DP   FPCT PB  SB  CS   CS%\n0   1   키움  101  73  13  2697  1068  102  0.981  6  64  27  29.7\n1   2   LG   97  49   5  2604   961   91  0.986  5  52  26  33.3\n2   3   두산   96  60   5  2571   873   90  0.983  4  61  14  18.7\n3   4   NC   94  49   5  2543   835   82  0.986  2  33  31  48.4\n4   5   SK   97  71   5  2537   884   91  0.980  2  90  37  29.1\n5   6   삼성   96  70   6  2523   898   95  0.980  2  40  26  39.4\n6   7   KT   94  65   4  2517   970  102  0.982  8  43  13  23.2\n7   8   한화   95  74   3  2491   858   93  0.978  7  80  32  28.6\n8   9  KIA   94  69   6  2472   997  116  0.980  5  56  31  35.6\n9  10   롯데   92  50   1  2458   935   88  0.985  5  70  18  20.5",
      "text/html": "<div>\n<style scoped>\n    .dataframe tbody tr th:only-of-type {\n        vertical-align: middle;\n    }\n\n    .dataframe tbody tr th {\n        vertical-align: top;\n    }\n\n    .dataframe thead th {\n        text-align: right;\n    }\n</style>\n<table border=\"1\" class=\"dataframe\">\n  <thead>\n    <tr style=\"text-align: right;\">\n      <th></th>\n      <th>순위</th>\n      <th>팀명</th>\n      <th>G</th>\n      <th>E</th>\n      <th>PKO</th>\n      <th>PO</th>\n      <th>A</th>\n      <th>DP</th>\n      <th>FPCT</th>\n      <th>PB</th>\n      <th>SB</th>\n      <th>CS</th>\n      <th>CS%</th>\n    </tr>\n  </thead>\n  <tbody>\n    <tr>\n      <th>0</th>\n      <td>1</td>\n      <td>키움</td>\n      <td>101</td>\n      <td>73</td>\n      <td>13</td>\n      <td>2697</td>\n      <td>1068</td>\n      <td>102</td>\n      <td>0.981</td>\n      <td>6</td>\n      <td>64</td>\n      <td>27</td>\n      <td>29.7</td>\n    </tr>\n    <tr>\n      <th>1</th>\n      <td>2</td>\n      <td>LG</td>\n      <td>97</td>\n      <td>49</td>\n      <td>5</td>\n      <td>2604</td>\n      <td>961</td>\n      <td>91</td>\n      <td>0.986</td>\n      <td>5</td>\n      <td>52</td>\n      <td>26</td>\n      <td>33.3</td>\n    </tr>\n    <tr>\n      <th>2</th>\n      <td>3</td>\n      <td>두산</td>\n      <td>96</td>\n      <td>60</td>\n      <td>5</td>\n      <td>2571</td>\n      <td>873</td>\n      <td>90</td>\n      <td>0.983</td>\n      <td>4</td>\n      <td>61</td>\n      <td>14</td>\n      <td>18.7</td>\n    </tr>\n    <tr>\n      <th>3</th>\n      <td>4</td>\n      <td>NC</td>\n      <td>94</td>\n      <td>49</td>\n      <td>5</td>\n      <td>2543</td>\n      <td>835</td>\n      <td>82</td>\n      <td>0.986</td>\n      <td>2</td>\n      <td>33</td>\n      <td>31</td>\n      <td>48.4</td>\n    </tr>\n    <tr>\n      <th>4</th>\n      <td>5</td>\n      <td>SK</td>\n      <td>97</td>\n      <td>71</td>\n      <td>5</td>\n      <td>2537</td>\n      <td>884</td>\n      <td>91</td>\n      <td>0.980</td>\n      <td>2</td>\n      <td>90</td>\n      <td>37</td>\n      <td>29.1</td>\n    </tr>\n    <tr>\n      <th>5</th>\n      <td>6</td>\n      <td>삼성</td>\n      <td>96</td>\n      <td>70</td>\n      <td>6</td>\n      <td>2523</td>\n      <td>898</td>\n      <td>95</td>\n      <td>0.980</td>\n      <td>2</td>\n      <td>40</td>\n      <td>26</td>\n      <td>39.4</td>\n    </tr>\n    <tr>\n      <th>6</th>\n      <td>7</td>\n      <td>KT</td>\n      <td>94</td>\n      <td>65</td>\n      <td>4</td>\n      <td>2517</td>\n      <td>970</td>\n      <td>102</td>\n      <td>0.982</td>\n      <td>8</td>\n      <td>43</td>\n      <td>13</td>\n      <td>23.2</td>\n    </tr>\n    <tr>\n      <th>7</th>\n      <td>8</td>\n      <td>한화</td>\n      <td>95</td>\n      <td>74</td>\n      <td>3</td>\n      <td>2491</td>\n      <td>858</td>\n      <td>93</td>\n      <td>0.978</td>\n      <td>7</td>\n      <td>80</td>\n      <td>32</td>\n      <td>28.6</td>\n    </tr>\n    <tr>\n      <th>8</th>\n      <td>9</td>\n      <td>KIA</td>\n      <td>94</td>\n      <td>69</td>\n      <td>6</td>\n      <td>2472</td>\n      <td>997</td>\n      <td>116</td>\n      <td>0.980</td>\n      <td>5</td>\n      <td>56</td>\n      <td>31</td>\n      <td>35.6</td>\n    </tr>\n    <tr>\n      <th>9</th>\n      <td>10</td>\n      <td>롯데</td>\n      <td>92</td>\n      <td>50</td>\n      <td>1</td>\n      <td>2458</td>\n      <td>935</td>\n      <td>88</td>\n      <td>0.985</td>\n      <td>5</td>\n      <td>70</td>\n      <td>18</td>\n      <td>20.5</td>\n    </tr>\n  </tbody>\n</table>\n</div>"
     },
     "metadata": {},
     "execution_count": 9
    }
   ],
   "source": [
    "team_defense"
   ]
  },
  {
   "cell_type": "code",
   "execution_count": 10,
   "metadata": {},
   "outputs": [],
   "source": [
    "# KBO 팀순위 크롤링\n",
    "url = f\"https://www.koreabaseball.com/TeamRank/TeamRank.aspx\"\n",
    "\n",
    "response = requests.get(url)\n",
    "soup = BeautifulSoup(response.text, 'html.parser')\n",
    "\n",
    "Player_infos = soup.find_all(\"tr\")\n",
    "\n",
    "list_columns = [\"순위\", \"팀명\", \"경기\", \"승\", \"패\", \"무\", \"승률\", \"게임차\", \"최근10경기\", \"연속\", \"홈\", \"방문\"]\n",
    "team_rank = pd.DataFrame(columns=list_columns)\n",
    "\n",
    "bodys = soup.select(\"div[id=cphContents_cphContents_cphContents_udpRecord] > table[class=tData] > tbody > tr\")\n",
    "\n",
    "\n",
    "for pl_infos in bodys:\n",
    "\n",
    "    list_tds = pl_infos.select(\"td\")\n",
    "\n",
    "    row_datas = []\n",
    "    for td in list_tds:\n",
    "        row_datas.append(td.text)\n",
    "\n",
    "    series = pd.Series(row_datas, index=list_columns)\n",
    "    team_rank = team_rank.append(series, ignore_index=True)"
   ]
  },
  {
   "cell_type": "code",
   "execution_count": 11,
   "metadata": {},
   "outputs": [
    {
     "output_type": "execute_result",
     "data": {
      "text/plain": "   순위   팀명   경기   승   패  무     승률   게임차  최근10경기  연속        홈       방문\n0   1   NC   94  57  35  2  0.620     0  6승0무4패  1패  30-1-16  27-1-19\n1   2   키움  101  60  41  0  0.594   1.5  6승0무4패  1승  34-0-19  26-0-22\n2   3   LG   98  56  40  2  0.583     3  6승1무3패  5승  25-2-21  31-0-19\n3   4   두산   97  53  41  3  0.564     5  6승1무3패  1승  24-2-22  29-1-19\n4   5   KT   94  50  43  1  0.538   7.5  5승0무5패  1승  28-0-18  22-1-25\n5   6  KIA   94  49  45  0  0.521     9  5승0무5패  2승  29-0-18  20-0-27\n6   7   롯데   92  47  44  1  0.516   9.5  5승0무5패  1패  27-0-19  20-1-25\n7   8   삼성   96  43  52  1  0.453  15.5  3승0무7패  2패  24-0-26  19-1-26\n8   9   SK   97  32  64  1  0.333    27  3승0무7패  4패  19-0-31  13-1-33\n9  10   한화   95  26  68  1  0.277    32  4승0무6패  3패  13-1-30  13-0-38",
      "text/html": "<div>\n<style scoped>\n    .dataframe tbody tr th:only-of-type {\n        vertical-align: middle;\n    }\n\n    .dataframe tbody tr th {\n        vertical-align: top;\n    }\n\n    .dataframe thead th {\n        text-align: right;\n    }\n</style>\n<table border=\"1\" class=\"dataframe\">\n  <thead>\n    <tr style=\"text-align: right;\">\n      <th></th>\n      <th>순위</th>\n      <th>팀명</th>\n      <th>경기</th>\n      <th>승</th>\n      <th>패</th>\n      <th>무</th>\n      <th>승률</th>\n      <th>게임차</th>\n      <th>최근10경기</th>\n      <th>연속</th>\n      <th>홈</th>\n      <th>방문</th>\n    </tr>\n  </thead>\n  <tbody>\n    <tr>\n      <th>0</th>\n      <td>1</td>\n      <td>NC</td>\n      <td>94</td>\n      <td>57</td>\n      <td>35</td>\n      <td>2</td>\n      <td>0.620</td>\n      <td>0</td>\n      <td>6승0무4패</td>\n      <td>1패</td>\n      <td>30-1-16</td>\n      <td>27-1-19</td>\n    </tr>\n    <tr>\n      <th>1</th>\n      <td>2</td>\n      <td>키움</td>\n      <td>101</td>\n      <td>60</td>\n      <td>41</td>\n      <td>0</td>\n      <td>0.594</td>\n      <td>1.5</td>\n      <td>6승0무4패</td>\n      <td>1승</td>\n      <td>34-0-19</td>\n      <td>26-0-22</td>\n    </tr>\n    <tr>\n      <th>2</th>\n      <td>3</td>\n      <td>LG</td>\n      <td>98</td>\n      <td>56</td>\n      <td>40</td>\n      <td>2</td>\n      <td>0.583</td>\n      <td>3</td>\n      <td>6승1무3패</td>\n      <td>5승</td>\n      <td>25-2-21</td>\n      <td>31-0-19</td>\n    </tr>\n    <tr>\n      <th>3</th>\n      <td>4</td>\n      <td>두산</td>\n      <td>97</td>\n      <td>53</td>\n      <td>41</td>\n      <td>3</td>\n      <td>0.564</td>\n      <td>5</td>\n      <td>6승1무3패</td>\n      <td>1승</td>\n      <td>24-2-22</td>\n      <td>29-1-19</td>\n    </tr>\n    <tr>\n      <th>4</th>\n      <td>5</td>\n      <td>KT</td>\n      <td>94</td>\n      <td>50</td>\n      <td>43</td>\n      <td>1</td>\n      <td>0.538</td>\n      <td>7.5</td>\n      <td>5승0무5패</td>\n      <td>1승</td>\n      <td>28-0-18</td>\n      <td>22-1-25</td>\n    </tr>\n    <tr>\n      <th>5</th>\n      <td>6</td>\n      <td>KIA</td>\n      <td>94</td>\n      <td>49</td>\n      <td>45</td>\n      <td>0</td>\n      <td>0.521</td>\n      <td>9</td>\n      <td>5승0무5패</td>\n      <td>2승</td>\n      <td>29-0-18</td>\n      <td>20-0-27</td>\n    </tr>\n    <tr>\n      <th>6</th>\n      <td>7</td>\n      <td>롯데</td>\n      <td>92</td>\n      <td>47</td>\n      <td>44</td>\n      <td>1</td>\n      <td>0.516</td>\n      <td>9.5</td>\n      <td>5승0무5패</td>\n      <td>1패</td>\n      <td>27-0-19</td>\n      <td>20-1-25</td>\n    </tr>\n    <tr>\n      <th>7</th>\n      <td>8</td>\n      <td>삼성</td>\n      <td>96</td>\n      <td>43</td>\n      <td>52</td>\n      <td>1</td>\n      <td>0.453</td>\n      <td>15.5</td>\n      <td>3승0무7패</td>\n      <td>2패</td>\n      <td>24-0-26</td>\n      <td>19-1-26</td>\n    </tr>\n    <tr>\n      <th>8</th>\n      <td>9</td>\n      <td>SK</td>\n      <td>97</td>\n      <td>32</td>\n      <td>64</td>\n      <td>1</td>\n      <td>0.333</td>\n      <td>27</td>\n      <td>3승0무7패</td>\n      <td>4패</td>\n      <td>19-0-31</td>\n      <td>13-1-33</td>\n    </tr>\n    <tr>\n      <th>9</th>\n      <td>10</td>\n      <td>한화</td>\n      <td>95</td>\n      <td>26</td>\n      <td>68</td>\n      <td>1</td>\n      <td>0.277</td>\n      <td>32</td>\n      <td>4승0무6패</td>\n      <td>3패</td>\n      <td>13-1-30</td>\n      <td>13-0-38</td>\n    </tr>\n  </tbody>\n</table>\n</div>"
     },
     "metadata": {},
     "execution_count": 11
    }
   ],
   "source": [
    "team_rank"
   ]
  },
  {
   "cell_type": "code",
   "execution_count": null,
   "metadata": {},
   "outputs": [],
   "source": []
  }
 ]
}