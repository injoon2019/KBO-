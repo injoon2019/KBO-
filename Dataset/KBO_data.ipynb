{
 "cells": [
  {
   "cell_type": "code",
   "execution_count": 125,
   "metadata": {
    "collapsed": true
   },
   "outputs": [],
   "source": [
    "from matplotlib import font_manager, rc\n",
    "font_name = font_manager.FontProperties(fname=\"c:/Windows/Fonts/malgun.ttf\").get_name()\n",
    "rc('font', family=font_name)"
   ]
  },
  {
   "cell_type": "code",
   "execution_count": 126,
   "outputs": [],
   "source": [
    "# 데이터 크롤링 모듈\n",
    "from bs4 import BeautifulSoup\n",
    "import re"
   ],
   "metadata": {
    "collapsed": false,
    "pycharm": {
     "name": "#%%\n"
    }
   }
  },
  {
   "cell_type": "code",
   "execution_count": 127,
   "outputs": [],
   "source": [
    "# 데이터 분석 모듈\n",
    "import pandas as pd\n",
    "import numpy as np\n",
    "import matplotlib.pyplot as plt\n",
    "import seaborn as sns\n",
    "import time\n",
    "from datetime import datetime\n",
    "import requests"
   ],
   "metadata": {
    "collapsed": false,
    "pycharm": {
     "name": "#%%\n"
    }
   }
  },
  {
   "cell_type": "code",
   "execution_count": 128,
   "outputs": [
    {
     "data": {
      "text/plain": "    순위    선수명   팀명     타율 경기수   타석   타수  득점   안타 2루타 3루타  홈런   루타  타점 희생번트  \\\n0    1  페르난데스   두산  0.366  97  451  396  73  145  23   0  16  216  77    0   \n1    2    손아섭   롯데  0.352  91  399  347  67  122  27   0   7  170  59    1   \n2    3    김현수   LG  0.346  98  432  387  72  134  27   1  20  223  82    0   \n3    4    이정후   키움  0.344  98  432  384  64  132  36   4  14  218  74    2   \n4    5    강진성   NC  0.341  78  288  264  43   90  18   0  12  144  54    2   \n5    6    로하스   KT  0.339  94  420  380  78  129  28   1  33  258  90    0   \n6    7    오재일   두산  0.333  80  340  309  41  103  21   0  11  157  57    0   \n7    8    최형우  KIA  0.329  91  389  334  59  110  21   1  12  169  59    0   \n8    9    이명기   NC  0.329  87  344  310  54  102  14   2   1  123  35    2   \n9   10    박민우   NC  0.326  75  315  279  49   91  17   2   4  124  31    1   \n10  11    나성범   NC  0.320  88  406  362  80  116  26   2  27  227  84    0   \n11  12    강백호   KT  0.318  79  348  305  59   97  22   1  16  169  54    0   \n12  13    김상수   삼성  0.316  77  325  275  48   87  17   1   3  115  27    1   \n13  14     정훈   롯데  0.315  64  294  254  52   80  14   1   8  120  42    1   \n14  15    정수빈   두산  0.312  94  368  330  56  103  11   5   3  133  41    6   \n15  16    박해민   삼성  0.312  85  331  308  50   96  13   3   7  136  35    4   \n16  17    구자욱   삼성  0.312  73  315  276  39   86  15   0   8  125  43    0   \n17  18    배정대   KT  0.309  94  399  346  59  107  22   3  10  165  43    4   \n18  19    조용호   KT  0.309  86  306  262  49   81  11   0   0   92  19    1   \n19  20    양의지   NC  0.309  81  321  275  49   85  18   0  15  148  69    1   \n20  21    박건우   두산  0.306  90  391  346  76  106  28   0  12  170  49    0   \n21  22    마차도   롯데  0.306  92  370  327  49  100  23   1   9  152  51    1   \n22  23     터커  KIA  0.302  93  410  354  68  107  23   0  24  202  72    0   \n23  24    라모스   LG  0.300  92  384  337  58  101  14   1  30  207  67    0   \n24  25    최주환   두산  0.299  95  389  348  46  104  21   2  11  162  61    1   \n25  26    김재호   두산  0.298  76  303  262  35   78  11   1   2   97  27    1   \n26  27    황재균   KT  0.296  84  371  335  64   99  26   2  12  165  56    2   \n27  28    김하성   키움  0.295  97  443  373  84  110  15   1  22  193  79    3   \n28  29    알테어   NC  0.294  87  345  309  64   91  14   5  21  178  76    0   \n29  30    장성우   KT  0.293  88  298  256  26   75   9   0   8  108  58    8   \n\n   희생플라이  \n0      7  \n1      6  \n2      3  \n3      6  \n4      5  \n5      3  \n6      1  \n7      2  \n8      3  \n9      6  \n10     1  \n11     3  \n12     2  \n13     2  \n14     1  \n15     0  \n16     3  \n17     2  \n18     1  \n19     5  \n20     5  \n21     5  \n22     0  \n23     4  \n24     5  \n25     5  \n26     2  \n27     3  \n28     2  \n29     5  ",
      "text/html": "<div>\n<style scoped>\n    .dataframe tbody tr th:only-of-type {\n        vertical-align: middle;\n    }\n\n    .dataframe tbody tr th {\n        vertical-align: top;\n    }\n\n    .dataframe thead th {\n        text-align: right;\n    }\n</style>\n<table border=\"1\" class=\"dataframe\">\n  <thead>\n    <tr style=\"text-align: right;\">\n      <th></th>\n      <th>순위</th>\n      <th>선수명</th>\n      <th>팀명</th>\n      <th>타율</th>\n      <th>경기수</th>\n      <th>타석</th>\n      <th>타수</th>\n      <th>득점</th>\n      <th>안타</th>\n      <th>2루타</th>\n      <th>3루타</th>\n      <th>홈런</th>\n      <th>루타</th>\n      <th>타점</th>\n      <th>희생번트</th>\n      <th>희생플라이</th>\n    </tr>\n  </thead>\n  <tbody>\n    <tr>\n      <th>0</th>\n      <td>1</td>\n      <td>페르난데스</td>\n      <td>두산</td>\n      <td>0.366</td>\n      <td>97</td>\n      <td>451</td>\n      <td>396</td>\n      <td>73</td>\n      <td>145</td>\n      <td>23</td>\n      <td>0</td>\n      <td>16</td>\n      <td>216</td>\n      <td>77</td>\n      <td>0</td>\n      <td>7</td>\n    </tr>\n    <tr>\n      <th>1</th>\n      <td>2</td>\n      <td>손아섭</td>\n      <td>롯데</td>\n      <td>0.352</td>\n      <td>91</td>\n      <td>399</td>\n      <td>347</td>\n      <td>67</td>\n      <td>122</td>\n      <td>27</td>\n      <td>0</td>\n      <td>7</td>\n      <td>170</td>\n      <td>59</td>\n      <td>1</td>\n      <td>6</td>\n    </tr>\n    <tr>\n      <th>2</th>\n      <td>3</td>\n      <td>김현수</td>\n      <td>LG</td>\n      <td>0.346</td>\n      <td>98</td>\n      <td>432</td>\n      <td>387</td>\n      <td>72</td>\n      <td>134</td>\n      <td>27</td>\n      <td>1</td>\n      <td>20</td>\n      <td>223</td>\n      <td>82</td>\n      <td>0</td>\n      <td>3</td>\n    </tr>\n    <tr>\n      <th>3</th>\n      <td>4</td>\n      <td>이정후</td>\n      <td>키움</td>\n      <td>0.344</td>\n      <td>98</td>\n      <td>432</td>\n      <td>384</td>\n      <td>64</td>\n      <td>132</td>\n      <td>36</td>\n      <td>4</td>\n      <td>14</td>\n      <td>218</td>\n      <td>74</td>\n      <td>2</td>\n      <td>6</td>\n    </tr>\n    <tr>\n      <th>4</th>\n      <td>5</td>\n      <td>강진성</td>\n      <td>NC</td>\n      <td>0.341</td>\n      <td>78</td>\n      <td>288</td>\n      <td>264</td>\n      <td>43</td>\n      <td>90</td>\n      <td>18</td>\n      <td>0</td>\n      <td>12</td>\n      <td>144</td>\n      <td>54</td>\n      <td>2</td>\n      <td>5</td>\n    </tr>\n    <tr>\n      <th>5</th>\n      <td>6</td>\n      <td>로하스</td>\n      <td>KT</td>\n      <td>0.339</td>\n      <td>94</td>\n      <td>420</td>\n      <td>380</td>\n      <td>78</td>\n      <td>129</td>\n      <td>28</td>\n      <td>1</td>\n      <td>33</td>\n      <td>258</td>\n      <td>90</td>\n      <td>0</td>\n      <td>3</td>\n    </tr>\n    <tr>\n      <th>6</th>\n      <td>7</td>\n      <td>오재일</td>\n      <td>두산</td>\n      <td>0.333</td>\n      <td>80</td>\n      <td>340</td>\n      <td>309</td>\n      <td>41</td>\n      <td>103</td>\n      <td>21</td>\n      <td>0</td>\n      <td>11</td>\n      <td>157</td>\n      <td>57</td>\n      <td>0</td>\n      <td>1</td>\n    </tr>\n    <tr>\n      <th>7</th>\n      <td>8</td>\n      <td>최형우</td>\n      <td>KIA</td>\n      <td>0.329</td>\n      <td>91</td>\n      <td>389</td>\n      <td>334</td>\n      <td>59</td>\n      <td>110</td>\n      <td>21</td>\n      <td>1</td>\n      <td>12</td>\n      <td>169</td>\n      <td>59</td>\n      <td>0</td>\n      <td>2</td>\n    </tr>\n    <tr>\n      <th>8</th>\n      <td>9</td>\n      <td>이명기</td>\n      <td>NC</td>\n      <td>0.329</td>\n      <td>87</td>\n      <td>344</td>\n      <td>310</td>\n      <td>54</td>\n      <td>102</td>\n      <td>14</td>\n      <td>2</td>\n      <td>1</td>\n      <td>123</td>\n      <td>35</td>\n      <td>2</td>\n      <td>3</td>\n    </tr>\n    <tr>\n      <th>9</th>\n      <td>10</td>\n      <td>박민우</td>\n      <td>NC</td>\n      <td>0.326</td>\n      <td>75</td>\n      <td>315</td>\n      <td>279</td>\n      <td>49</td>\n      <td>91</td>\n      <td>17</td>\n      <td>2</td>\n      <td>4</td>\n      <td>124</td>\n      <td>31</td>\n      <td>1</td>\n      <td>6</td>\n    </tr>\n    <tr>\n      <th>10</th>\n      <td>11</td>\n      <td>나성범</td>\n      <td>NC</td>\n      <td>0.320</td>\n      <td>88</td>\n      <td>406</td>\n      <td>362</td>\n      <td>80</td>\n      <td>116</td>\n      <td>26</td>\n      <td>2</td>\n      <td>27</td>\n      <td>227</td>\n      <td>84</td>\n      <td>0</td>\n      <td>1</td>\n    </tr>\n    <tr>\n      <th>11</th>\n      <td>12</td>\n      <td>강백호</td>\n      <td>KT</td>\n      <td>0.318</td>\n      <td>79</td>\n      <td>348</td>\n      <td>305</td>\n      <td>59</td>\n      <td>97</td>\n      <td>22</td>\n      <td>1</td>\n      <td>16</td>\n      <td>169</td>\n      <td>54</td>\n      <td>0</td>\n      <td>3</td>\n    </tr>\n    <tr>\n      <th>12</th>\n      <td>13</td>\n      <td>김상수</td>\n      <td>삼성</td>\n      <td>0.316</td>\n      <td>77</td>\n      <td>325</td>\n      <td>275</td>\n      <td>48</td>\n      <td>87</td>\n      <td>17</td>\n      <td>1</td>\n      <td>3</td>\n      <td>115</td>\n      <td>27</td>\n      <td>1</td>\n      <td>2</td>\n    </tr>\n    <tr>\n      <th>13</th>\n      <td>14</td>\n      <td>정훈</td>\n      <td>롯데</td>\n      <td>0.315</td>\n      <td>64</td>\n      <td>294</td>\n      <td>254</td>\n      <td>52</td>\n      <td>80</td>\n      <td>14</td>\n      <td>1</td>\n      <td>8</td>\n      <td>120</td>\n      <td>42</td>\n      <td>1</td>\n      <td>2</td>\n    </tr>\n    <tr>\n      <th>14</th>\n      <td>15</td>\n      <td>정수빈</td>\n      <td>두산</td>\n      <td>0.312</td>\n      <td>94</td>\n      <td>368</td>\n      <td>330</td>\n      <td>56</td>\n      <td>103</td>\n      <td>11</td>\n      <td>5</td>\n      <td>3</td>\n      <td>133</td>\n      <td>41</td>\n      <td>6</td>\n      <td>1</td>\n    </tr>\n    <tr>\n      <th>15</th>\n      <td>16</td>\n      <td>박해민</td>\n      <td>삼성</td>\n      <td>0.312</td>\n      <td>85</td>\n      <td>331</td>\n      <td>308</td>\n      <td>50</td>\n      <td>96</td>\n      <td>13</td>\n      <td>3</td>\n      <td>7</td>\n      <td>136</td>\n      <td>35</td>\n      <td>4</td>\n      <td>0</td>\n    </tr>\n    <tr>\n      <th>16</th>\n      <td>17</td>\n      <td>구자욱</td>\n      <td>삼성</td>\n      <td>0.312</td>\n      <td>73</td>\n      <td>315</td>\n      <td>276</td>\n      <td>39</td>\n      <td>86</td>\n      <td>15</td>\n      <td>0</td>\n      <td>8</td>\n      <td>125</td>\n      <td>43</td>\n      <td>0</td>\n      <td>3</td>\n    </tr>\n    <tr>\n      <th>17</th>\n      <td>18</td>\n      <td>배정대</td>\n      <td>KT</td>\n      <td>0.309</td>\n      <td>94</td>\n      <td>399</td>\n      <td>346</td>\n      <td>59</td>\n      <td>107</td>\n      <td>22</td>\n      <td>3</td>\n      <td>10</td>\n      <td>165</td>\n      <td>43</td>\n      <td>4</td>\n      <td>2</td>\n    </tr>\n    <tr>\n      <th>18</th>\n      <td>19</td>\n      <td>조용호</td>\n      <td>KT</td>\n      <td>0.309</td>\n      <td>86</td>\n      <td>306</td>\n      <td>262</td>\n      <td>49</td>\n      <td>81</td>\n      <td>11</td>\n      <td>0</td>\n      <td>0</td>\n      <td>92</td>\n      <td>19</td>\n      <td>1</td>\n      <td>1</td>\n    </tr>\n    <tr>\n      <th>19</th>\n      <td>20</td>\n      <td>양의지</td>\n      <td>NC</td>\n      <td>0.309</td>\n      <td>81</td>\n      <td>321</td>\n      <td>275</td>\n      <td>49</td>\n      <td>85</td>\n      <td>18</td>\n      <td>0</td>\n      <td>15</td>\n      <td>148</td>\n      <td>69</td>\n      <td>1</td>\n      <td>5</td>\n    </tr>\n    <tr>\n      <th>20</th>\n      <td>21</td>\n      <td>박건우</td>\n      <td>두산</td>\n      <td>0.306</td>\n      <td>90</td>\n      <td>391</td>\n      <td>346</td>\n      <td>76</td>\n      <td>106</td>\n      <td>28</td>\n      <td>0</td>\n      <td>12</td>\n      <td>170</td>\n      <td>49</td>\n      <td>0</td>\n      <td>5</td>\n    </tr>\n    <tr>\n      <th>21</th>\n      <td>22</td>\n      <td>마차도</td>\n      <td>롯데</td>\n      <td>0.306</td>\n      <td>92</td>\n      <td>370</td>\n      <td>327</td>\n      <td>49</td>\n      <td>100</td>\n      <td>23</td>\n      <td>1</td>\n      <td>9</td>\n      <td>152</td>\n      <td>51</td>\n      <td>1</td>\n      <td>5</td>\n    </tr>\n    <tr>\n      <th>22</th>\n      <td>23</td>\n      <td>터커</td>\n      <td>KIA</td>\n      <td>0.302</td>\n      <td>93</td>\n      <td>410</td>\n      <td>354</td>\n      <td>68</td>\n      <td>107</td>\n      <td>23</td>\n      <td>0</td>\n      <td>24</td>\n      <td>202</td>\n      <td>72</td>\n      <td>0</td>\n      <td>0</td>\n    </tr>\n    <tr>\n      <th>23</th>\n      <td>24</td>\n      <td>라모스</td>\n      <td>LG</td>\n      <td>0.300</td>\n      <td>92</td>\n      <td>384</td>\n      <td>337</td>\n      <td>58</td>\n      <td>101</td>\n      <td>14</td>\n      <td>1</td>\n      <td>30</td>\n      <td>207</td>\n      <td>67</td>\n      <td>0</td>\n      <td>4</td>\n    </tr>\n    <tr>\n      <th>24</th>\n      <td>25</td>\n      <td>최주환</td>\n      <td>두산</td>\n      <td>0.299</td>\n      <td>95</td>\n      <td>389</td>\n      <td>348</td>\n      <td>46</td>\n      <td>104</td>\n      <td>21</td>\n      <td>2</td>\n      <td>11</td>\n      <td>162</td>\n      <td>61</td>\n      <td>1</td>\n      <td>5</td>\n    </tr>\n    <tr>\n      <th>25</th>\n      <td>26</td>\n      <td>김재호</td>\n      <td>두산</td>\n      <td>0.298</td>\n      <td>76</td>\n      <td>303</td>\n      <td>262</td>\n      <td>35</td>\n      <td>78</td>\n      <td>11</td>\n      <td>1</td>\n      <td>2</td>\n      <td>97</td>\n      <td>27</td>\n      <td>1</td>\n      <td>5</td>\n    </tr>\n    <tr>\n      <th>26</th>\n      <td>27</td>\n      <td>황재균</td>\n      <td>KT</td>\n      <td>0.296</td>\n      <td>84</td>\n      <td>371</td>\n      <td>335</td>\n      <td>64</td>\n      <td>99</td>\n      <td>26</td>\n      <td>2</td>\n      <td>12</td>\n      <td>165</td>\n      <td>56</td>\n      <td>2</td>\n      <td>2</td>\n    </tr>\n    <tr>\n      <th>27</th>\n      <td>28</td>\n      <td>김하성</td>\n      <td>키움</td>\n      <td>0.295</td>\n      <td>97</td>\n      <td>443</td>\n      <td>373</td>\n      <td>84</td>\n      <td>110</td>\n      <td>15</td>\n      <td>1</td>\n      <td>22</td>\n      <td>193</td>\n      <td>79</td>\n      <td>3</td>\n      <td>3</td>\n    </tr>\n    <tr>\n      <th>28</th>\n      <td>29</td>\n      <td>알테어</td>\n      <td>NC</td>\n      <td>0.294</td>\n      <td>87</td>\n      <td>345</td>\n      <td>309</td>\n      <td>64</td>\n      <td>91</td>\n      <td>14</td>\n      <td>5</td>\n      <td>21</td>\n      <td>178</td>\n      <td>76</td>\n      <td>0</td>\n      <td>2</td>\n    </tr>\n    <tr>\n      <th>29</th>\n      <td>30</td>\n      <td>장성우</td>\n      <td>KT</td>\n      <td>0.293</td>\n      <td>88</td>\n      <td>298</td>\n      <td>256</td>\n      <td>26</td>\n      <td>75</td>\n      <td>9</td>\n      <td>0</td>\n      <td>8</td>\n      <td>108</td>\n      <td>58</td>\n      <td>8</td>\n      <td>5</td>\n    </tr>\n  </tbody>\n</table>\n</div>"
     },
     "execution_count": 128,
     "metadata": {},
     "output_type": "execute_result"
    }
   ],
   "source": [
    "# KBO 크롤링\n",
    "# 우선 타자 분석이라 예시로 가져옴\n",
    "site_list_num = 1\n",
    "url = f\"https://www.koreabaseball.com/Record/Player/HitterBasic/Basic{site_list_num}.aspx\"\n",
    "\n",
    "response = requests.get(url)\n",
    "soup = BeautifulSoup(response.text, 'html.parser')\n",
    "\n",
    "# 선수들 데이터 목록 가져옴\n",
    "Player_infos = soup.find_all(\"tr\")\n",
    "\n",
    "list_columns = [\"순위\", \"선수명\", \"팀명\", \"타율\", \"경기수\", \"타석\", \"타수\", \"득점\", \"안타\", \"2루타\",\n",
    "                \"3루타\", \"홈런\",\"루타\",\"타점\", \"희생번트\", \"희생플라이\"]\n",
    "df_pl_data = pd.DataFrame(columns=list_columns)\n",
    "\n",
    "bodys = soup.select(\"div[id=cphContents_cphContents_cphContents_udpContent] > div[class=record_result] > table > tbody > tr\")\n",
    "\n",
    "\n",
    "for pl_infos in bodys:\n",
    "\n",
    "    list_tds = pl_infos.select(\"td\")\n",
    "\n",
    "    row_datas = []\n",
    "    for td in list_tds:\n",
    "        row_datas.append(td.text)\n",
    "\n",
    "    series = pd.Series(row_datas, index=list_columns)\n",
    "    df_pl_data = df_pl_data.append(series, ignore_index=True)\n",
    "\n",
    "\n"
   ],
   "metadata": {
    "collapsed": false,
    "pycharm": {
     "name": "#%%\n"
    }
   }
  },
  {
   "cell_type": "code",
   "execution_count": 132,
   "outputs": [
    {
     "ename": "ValueError",
     "evalue": "invalid literal for int() with base 10: '페르난데스'",
     "output_type": "error",
     "traceback": [
      "\u001B[1;31m---------------------------------------------------------------------------\u001B[0m",
      "\u001B[1;31mValueError\u001B[0m                                Traceback (most recent call last)",
      "\u001B[1;32m<ipython-input-132-fc70be34986b>\u001B[0m in \u001B[0;36m<module>\u001B[1;34m\u001B[0m\n\u001B[1;32m----> 1\u001B[1;33m \u001B[0mdf_pl_data\u001B[0m\u001B[1;33m.\u001B[0m\u001B[0mastype\u001B[0m\u001B[1;33m(\u001B[0m\u001B[1;34m\"int32\"\u001B[0m\u001B[1;33m)\u001B[0m\u001B[1;33m\u001B[0m\u001B[1;33m\u001B[0m\u001B[0m\n\u001B[0m\u001B[0;32m      2\u001B[0m \u001B[1;33m\u001B[0m\u001B[0m\n",
      "\u001B[1;32mc:\\users\\simon\\anaconda3\\envs\\gpu\\lib\\site-packages\\pandas\\core\\generic.py\u001B[0m in \u001B[0;36mastype\u001B[1;34m(self, dtype, copy, errors)\u001B[0m\n\u001B[0;32m   5535\u001B[0m         \u001B[1;32melse\u001B[0m\u001B[1;33m:\u001B[0m\u001B[1;33m\u001B[0m\u001B[1;33m\u001B[0m\u001B[0m\n\u001B[0;32m   5536\u001B[0m             \u001B[1;31m# else, only a single dtype is given\u001B[0m\u001B[1;33m\u001B[0m\u001B[1;33m\u001B[0m\u001B[1;33m\u001B[0m\u001B[0m\n\u001B[1;32m-> 5537\u001B[1;33m             \u001B[0mnew_data\u001B[0m \u001B[1;33m=\u001B[0m \u001B[0mself\u001B[0m\u001B[1;33m.\u001B[0m\u001B[0m_mgr\u001B[0m\u001B[1;33m.\u001B[0m\u001B[0mastype\u001B[0m\u001B[1;33m(\u001B[0m\u001B[0mdtype\u001B[0m\u001B[1;33m=\u001B[0m\u001B[0mdtype\u001B[0m\u001B[1;33m,\u001B[0m \u001B[0mcopy\u001B[0m\u001B[1;33m=\u001B[0m\u001B[0mcopy\u001B[0m\u001B[1;33m,\u001B[0m \u001B[0merrors\u001B[0m\u001B[1;33m=\u001B[0m\u001B[0merrors\u001B[0m\u001B[1;33m,\u001B[0m\u001B[1;33m)\u001B[0m\u001B[1;33m\u001B[0m\u001B[1;33m\u001B[0m\u001B[0m\n\u001B[0m\u001B[0;32m   5538\u001B[0m             \u001B[1;32mreturn\u001B[0m \u001B[0mself\u001B[0m\u001B[1;33m.\u001B[0m\u001B[0m_constructor\u001B[0m\u001B[1;33m(\u001B[0m\u001B[0mnew_data\u001B[0m\u001B[1;33m)\u001B[0m\u001B[1;33m.\u001B[0m\u001B[0m__finalize__\u001B[0m\u001B[1;33m(\u001B[0m\u001B[0mself\u001B[0m\u001B[1;33m,\u001B[0m \u001B[0mmethod\u001B[0m\u001B[1;33m=\u001B[0m\u001B[1;34m\"astype\"\u001B[0m\u001B[1;33m)\u001B[0m\u001B[1;33m\u001B[0m\u001B[1;33m\u001B[0m\u001B[0m\n\u001B[0;32m   5539\u001B[0m \u001B[1;33m\u001B[0m\u001B[0m\n",
      "\u001B[1;32mc:\\users\\simon\\anaconda3\\envs\\gpu\\lib\\site-packages\\pandas\\core\\internals\\managers.py\u001B[0m in \u001B[0;36mastype\u001B[1;34m(self, dtype, copy, errors)\u001B[0m\n\u001B[0;32m    593\u001B[0m         \u001B[0mself\u001B[0m\u001B[1;33m,\u001B[0m \u001B[0mdtype\u001B[0m\u001B[1;33m,\u001B[0m \u001B[0mcopy\u001B[0m\u001B[1;33m:\u001B[0m \u001B[0mbool\u001B[0m \u001B[1;33m=\u001B[0m \u001B[1;32mFalse\u001B[0m\u001B[1;33m,\u001B[0m \u001B[0merrors\u001B[0m\u001B[1;33m:\u001B[0m \u001B[0mstr\u001B[0m \u001B[1;33m=\u001B[0m \u001B[1;34m\"raise\"\u001B[0m\u001B[1;33m\u001B[0m\u001B[1;33m\u001B[0m\u001B[0m\n\u001B[0;32m    594\u001B[0m     ) -> \"BlockManager\":\n\u001B[1;32m--> 595\u001B[1;33m         \u001B[1;32mreturn\u001B[0m \u001B[0mself\u001B[0m\u001B[1;33m.\u001B[0m\u001B[0mapply\u001B[0m\u001B[1;33m(\u001B[0m\u001B[1;34m\"astype\"\u001B[0m\u001B[1;33m,\u001B[0m \u001B[0mdtype\u001B[0m\u001B[1;33m=\u001B[0m\u001B[0mdtype\u001B[0m\u001B[1;33m,\u001B[0m \u001B[0mcopy\u001B[0m\u001B[1;33m=\u001B[0m\u001B[0mcopy\u001B[0m\u001B[1;33m,\u001B[0m \u001B[0merrors\u001B[0m\u001B[1;33m=\u001B[0m\u001B[0merrors\u001B[0m\u001B[1;33m)\u001B[0m\u001B[1;33m\u001B[0m\u001B[1;33m\u001B[0m\u001B[0m\n\u001B[0m\u001B[0;32m    596\u001B[0m \u001B[1;33m\u001B[0m\u001B[0m\n\u001B[0;32m    597\u001B[0m     def convert(\n",
      "\u001B[1;32mc:\\users\\simon\\anaconda3\\envs\\gpu\\lib\\site-packages\\pandas\\core\\internals\\managers.py\u001B[0m in \u001B[0;36mapply\u001B[1;34m(self, f, align_keys, **kwargs)\u001B[0m\n\u001B[0;32m    404\u001B[0m                 \u001B[0mapplied\u001B[0m \u001B[1;33m=\u001B[0m \u001B[0mb\u001B[0m\u001B[1;33m.\u001B[0m\u001B[0mapply\u001B[0m\u001B[1;33m(\u001B[0m\u001B[0mf\u001B[0m\u001B[1;33m,\u001B[0m \u001B[1;33m**\u001B[0m\u001B[0mkwargs\u001B[0m\u001B[1;33m)\u001B[0m\u001B[1;33m\u001B[0m\u001B[1;33m\u001B[0m\u001B[0m\n\u001B[0;32m    405\u001B[0m             \u001B[1;32melse\u001B[0m\u001B[1;33m:\u001B[0m\u001B[1;33m\u001B[0m\u001B[1;33m\u001B[0m\u001B[0m\n\u001B[1;32m--> 406\u001B[1;33m                 \u001B[0mapplied\u001B[0m \u001B[1;33m=\u001B[0m \u001B[0mgetattr\u001B[0m\u001B[1;33m(\u001B[0m\u001B[0mb\u001B[0m\u001B[1;33m,\u001B[0m \u001B[0mf\u001B[0m\u001B[1;33m)\u001B[0m\u001B[1;33m(\u001B[0m\u001B[1;33m**\u001B[0m\u001B[0mkwargs\u001B[0m\u001B[1;33m)\u001B[0m\u001B[1;33m\u001B[0m\u001B[1;33m\u001B[0m\u001B[0m\n\u001B[0m\u001B[0;32m    407\u001B[0m             \u001B[0mresult_blocks\u001B[0m \u001B[1;33m=\u001B[0m \u001B[0m_extend_blocks\u001B[0m\u001B[1;33m(\u001B[0m\u001B[0mapplied\u001B[0m\u001B[1;33m,\u001B[0m \u001B[0mresult_blocks\u001B[0m\u001B[1;33m)\u001B[0m\u001B[1;33m\u001B[0m\u001B[1;33m\u001B[0m\u001B[0m\n\u001B[0;32m    408\u001B[0m \u001B[1;33m\u001B[0m\u001B[0m\n",
      "\u001B[1;32mc:\\users\\simon\\anaconda3\\envs\\gpu\\lib\\site-packages\\pandas\\core\\internals\\blocks.py\u001B[0m in \u001B[0;36mastype\u001B[1;34m(self, dtype, copy, errors)\u001B[0m\n\u001B[0;32m    587\u001B[0m             \u001B[0mvals1d\u001B[0m \u001B[1;33m=\u001B[0m \u001B[0mvalues\u001B[0m\u001B[1;33m.\u001B[0m\u001B[0mravel\u001B[0m\u001B[1;33m(\u001B[0m\u001B[1;33m)\u001B[0m\u001B[1;33m\u001B[0m\u001B[1;33m\u001B[0m\u001B[0m\n\u001B[0;32m    588\u001B[0m             \u001B[1;32mtry\u001B[0m\u001B[1;33m:\u001B[0m\u001B[1;33m\u001B[0m\u001B[1;33m\u001B[0m\u001B[0m\n\u001B[1;32m--> 589\u001B[1;33m                 \u001B[0mvalues\u001B[0m \u001B[1;33m=\u001B[0m \u001B[0mastype_nansafe\u001B[0m\u001B[1;33m(\u001B[0m\u001B[0mvals1d\u001B[0m\u001B[1;33m,\u001B[0m \u001B[0mdtype\u001B[0m\u001B[1;33m,\u001B[0m \u001B[0mcopy\u001B[0m\u001B[1;33m=\u001B[0m\u001B[1;32mTrue\u001B[0m\u001B[1;33m)\u001B[0m\u001B[1;33m\u001B[0m\u001B[1;33m\u001B[0m\u001B[0m\n\u001B[0m\u001B[0;32m    590\u001B[0m             \u001B[1;32mexcept\u001B[0m \u001B[1;33m(\u001B[0m\u001B[0mValueError\u001B[0m\u001B[1;33m,\u001B[0m \u001B[0mTypeError\u001B[0m\u001B[1;33m)\u001B[0m\u001B[1;33m:\u001B[0m\u001B[1;33m\u001B[0m\u001B[1;33m\u001B[0m\u001B[0m\n\u001B[0;32m    591\u001B[0m                 \u001B[1;31m# e.g. astype_nansafe can fail on object-dtype of strings\u001B[0m\u001B[1;33m\u001B[0m\u001B[1;33m\u001B[0m\u001B[1;33m\u001B[0m\u001B[0m\n",
      "\u001B[1;32mc:\\users\\simon\\anaconda3\\envs\\gpu\\lib\\site-packages\\pandas\\core\\dtypes\\cast.py\u001B[0m in \u001B[0;36mastype_nansafe\u001B[1;34m(arr, dtype, copy, skipna)\u001B[0m\n\u001B[0;32m    964\u001B[0m         \u001B[1;31m# work around NumPy brokenness, #1987\u001B[0m\u001B[1;33m\u001B[0m\u001B[1;33m\u001B[0m\u001B[1;33m\u001B[0m\u001B[0m\n\u001B[0;32m    965\u001B[0m         \u001B[1;32mif\u001B[0m \u001B[0mnp\u001B[0m\u001B[1;33m.\u001B[0m\u001B[0missubdtype\u001B[0m\u001B[1;33m(\u001B[0m\u001B[0mdtype\u001B[0m\u001B[1;33m.\u001B[0m\u001B[0mtype\u001B[0m\u001B[1;33m,\u001B[0m \u001B[0mnp\u001B[0m\u001B[1;33m.\u001B[0m\u001B[0minteger\u001B[0m\u001B[1;33m)\u001B[0m\u001B[1;33m:\u001B[0m\u001B[1;33m\u001B[0m\u001B[1;33m\u001B[0m\u001B[0m\n\u001B[1;32m--> 966\u001B[1;33m             \u001B[1;32mreturn\u001B[0m \u001B[0mlib\u001B[0m\u001B[1;33m.\u001B[0m\u001B[0mastype_intsafe\u001B[0m\u001B[1;33m(\u001B[0m\u001B[0marr\u001B[0m\u001B[1;33m.\u001B[0m\u001B[0mravel\u001B[0m\u001B[1;33m(\u001B[0m\u001B[1;33m)\u001B[0m\u001B[1;33m,\u001B[0m \u001B[0mdtype\u001B[0m\u001B[1;33m)\u001B[0m\u001B[1;33m.\u001B[0m\u001B[0mreshape\u001B[0m\u001B[1;33m(\u001B[0m\u001B[0marr\u001B[0m\u001B[1;33m.\u001B[0m\u001B[0mshape\u001B[0m\u001B[1;33m)\u001B[0m\u001B[1;33m\u001B[0m\u001B[1;33m\u001B[0m\u001B[0m\n\u001B[0m\u001B[0;32m    967\u001B[0m \u001B[1;33m\u001B[0m\u001B[0m\n\u001B[0;32m    968\u001B[0m         \u001B[1;31m# if we have a datetime/timedelta array of objects\u001B[0m\u001B[1;33m\u001B[0m\u001B[1;33m\u001B[0m\u001B[1;33m\u001B[0m\u001B[0m\n",
      "\u001B[1;32mpandas\\_libs\\lib.pyx\u001B[0m in \u001B[0;36mpandas._libs.lib.astype_intsafe\u001B[1;34m()\u001B[0m\n",
      "\u001B[1;31mValueError\u001B[0m: invalid literal for int() with base 10: '페르난데스'"
     ]
    }
   ],
   "source": [
    "df_pl_data.astype(\"int32\")"
   ],
   "metadata": {
    "collapsed": false,
    "pycharm": {
     "name": "#%%\n"
    }
   }
  },
  {
   "cell_type": "code",
   "execution_count": 131,
   "outputs": [
    {
     "name": "stdout",
     "output_type": "stream",
     "text": [
      "<class 'pandas.core.frame.DataFrame'>\n",
      "RangeIndex: 30 entries, 0 to 29\n",
      "Data columns (total 16 columns):\n",
      " #   Column  Non-Null Count  Dtype \n",
      "---  ------  --------------  ----- \n",
      " 0   순위      30 non-null     object\n",
      " 1   선수명     30 non-null     object\n",
      " 2   팀명      30 non-null     object\n",
      " 3   타율      30 non-null     object\n",
      " 4   경기수     30 non-null     object\n",
      " 5   타석      30 non-null     object\n",
      " 6   타수      30 non-null     object\n",
      " 7   득점      30 non-null     object\n",
      " 8   안타      30 non-null     object\n",
      " 9   2루타     30 non-null     object\n",
      " 10  3루타     30 non-null     object\n",
      " 11  홈런      30 non-null     object\n",
      " 12  루타      30 non-null     object\n",
      " 13  타점      30 non-null     object\n",
      " 14  희생번트    30 non-null     object\n",
      " 15  희생플라이   30 non-null     object\n",
      "dtypes: object(16)\n",
      "memory usage: 3.9+ KB\n"
     ]
    }
   ],
   "source": [
    "df_pl_data.info()"
   ],
   "metadata": {
    "collapsed": false,
    "pycharm": {
     "name": "#%%\n"
    }
   }
  }
 ],
 "metadata": {
  "kernelspec": {
   "display_name": "Python 3",
   "language": "python",
   "name": "python3"
  },
  "language_info": {
   "codemirror_mode": {
    "name": "ipython",
    "version": 2
   },
   "file_extension": ".py",
   "mimetype": "text/x-python",
   "name": "python",
   "nbconvert_exporter": "python",
   "pygments_lexer": "ipython2",
   "version": "2.7.6"
  }
 },
 "nbformat": 4,
 "nbformat_minor": 0
}