{
 "cells": [
  {
   "cell_type": "code",
   "execution_count": 42,
   "metadata": {},
   "outputs": [],
   "source": [
    "# 데이터 크롤링 모듈\n",
    "from bs4 import BeautifulSoup\n",
    "import re\n",
    "# 데이터 분석 모듈\n",
    "import pandas as pd\n",
    "import numpy as np\n",
    "import matplotlib.pyplot as plt\n",
    "import seaborn as sns\n",
    "import time\n",
    "from datetime import datetime\n",
    "import requests\n",
    "import requests\n",
    "import json\n",
    "# 한글 폰트 사용하기\n",
    "from matplotlib import font_manager, rc\n",
    "font_name = font_manager.FontProperties(fname=\"c:/Windows/Fonts/malgun.ttf\").get_name()\n",
    "rc('font', family=font_name)"
   ]
  },
  {
   "cell_type": "code",
   "execution_count": 95,
   "metadata": {},
   "outputs": [],
   "source": [
    "group1 = pd.read_csv(r\"C:\\Users\\injoo\\광주 인공지능 사관학교\\웜업 프로젝트\\KBO 데이터 시각화\\Dataset\\player_infos_add_v01.csv\")\n",
    "all_players = pd.read_csv(r\"C:\\Users\\injoo\\광주 인공지능 사관학교\\웜업 프로젝트\\KBO 데이터 시각화\\Dataset\\players_salary_ID.csv\")"
   ]
  },
  {
   "cell_type": "code",
   "execution_count": 96,
   "metadata": {},
   "outputs": [
    {
     "data": {
      "text/plain": [
       "array(['Unnamed: 0', '순위', '선수명', '팀명', '타율', '경기수', '타석', '타수', '득점',\n",
       "       '안타', '2루타', '3루타', '홈런', '루타', '타점', '희생번트', '희생플라이', '선수ID',\n",
       "       '생년월일', '신장', '체중', '입단계약금', '연봉', '지명순위', '볼넷', '고의사구', '사구',\n",
       "       '삼진', '병살타', '장타율', '출루율', '실책', '도루성공률', '멀티히트', '출루율add장타율',\n",
       "       '득점권타율', '대타타율', '사진URL'], dtype=object)"
      ]
     },
     "execution_count": 96,
     "metadata": {},
     "output_type": "execute_result"
    }
   ],
   "source": [
    "group1.columns.values"
   ]
  },
  {
   "cell_type": "markdown",
   "metadata": {},
   "source": [
    "# KBO 평균 연봉은 1억 5천만원 정도이다. \n",
    "# 하지만 최근 리그 수준 저하 논란과 함께 많은 연봉을 받고 성적은 좋지 않은 '먹튀'들이 많아 지고 있다. 데이터로 알아보자\n",
    "\n",
    "## 일단 KBO 홈페이지에 등록되어있는 선수 전체 데이터를 분석해보자"
   ]
  },
  {
   "cell_type": "code",
   "execution_count": 45,
   "metadata": {},
   "outputs": [],
   "source": [
    "all_players = pd.read_csv(r\"C:\\Users\\injoo\\광주 인공지능 사관학교\\웜업 프로젝트\\KBO 데이터 시각화\\Dataset\\players_salary_ID.csv\")"
   ]
  },
  {
   "cell_type": "code",
   "execution_count": 46,
   "metadata": {},
   "outputs": [
    {
     "name": "stdout",
     "output_type": "stream",
     "text": [
      "<class 'pandas.core.frame.DataFrame'>\n",
      "RangeIndex: 893 entries, 0 to 892\n",
      "Data columns (total 6 columns):\n",
      " #   Column      Non-Null Count  Dtype  \n",
      "---  ------      --------------  -----  \n",
      " 0   Unnamed: 0  893 non-null    int64  \n",
      " 1   playerID    893 non-null    int64  \n",
      " 2   name        893 non-null    object \n",
      " 3   team        893 non-null    object \n",
      " 4   salary      893 non-null    float64\n",
      " 5   position    893 non-null    object \n",
      "dtypes: float64(1), int64(2), object(3)\n",
      "memory usage: 42.0+ KB\n"
     ]
    }
   ],
   "source": [
    "all_players.info()"
   ]
  },
  {
   "cell_type": "code",
   "execution_count": 47,
   "metadata": {},
   "outputs": [
    {
     "data": {
      "text/html": [
       "<div>\n",
       "<style scoped>\n",
       "    .dataframe tbody tr th:only-of-type {\n",
       "        vertical-align: middle;\n",
       "    }\n",
       "\n",
       "    .dataframe tbody tr th {\n",
       "        vertical-align: top;\n",
       "    }\n",
       "\n",
       "    .dataframe thead th {\n",
       "        text-align: right;\n",
       "    }\n",
       "</style>\n",
       "<table border=\"1\" class=\"dataframe\">\n",
       "  <thead>\n",
       "    <tr style=\"text-align: right;\">\n",
       "      <th></th>\n",
       "      <th>Unnamed: 0</th>\n",
       "      <th>playerID</th>\n",
       "      <th>name</th>\n",
       "      <th>salary</th>\n",
       "      <th>position</th>\n",
       "    </tr>\n",
       "    <tr>\n",
       "      <th>team</th>\n",
       "      <th></th>\n",
       "      <th></th>\n",
       "      <th></th>\n",
       "      <th></th>\n",
       "      <th></th>\n",
       "    </tr>\n",
       "  </thead>\n",
       "  <tbody>\n",
       "    <tr>\n",
       "      <th>KIA 타이거즈</th>\n",
       "      <td>84</td>\n",
       "      <td>84</td>\n",
       "      <td>84</td>\n",
       "      <td>84</td>\n",
       "      <td>84</td>\n",
       "    </tr>\n",
       "    <tr>\n",
       "      <th>KT 위즈</th>\n",
       "      <td>97</td>\n",
       "      <td>97</td>\n",
       "      <td>97</td>\n",
       "      <td>97</td>\n",
       "      <td>97</td>\n",
       "    </tr>\n",
       "    <tr>\n",
       "      <th>LG 트윈스</th>\n",
       "      <td>85</td>\n",
       "      <td>85</td>\n",
       "      <td>85</td>\n",
       "      <td>85</td>\n",
       "      <td>85</td>\n",
       "    </tr>\n",
       "    <tr>\n",
       "      <th>NC 다이노스</th>\n",
       "      <td>94</td>\n",
       "      <td>94</td>\n",
       "      <td>94</td>\n",
       "      <td>94</td>\n",
       "      <td>94</td>\n",
       "    </tr>\n",
       "    <tr>\n",
       "      <th>SK 와이번스</th>\n",
       "      <td>84</td>\n",
       "      <td>84</td>\n",
       "      <td>84</td>\n",
       "      <td>84</td>\n",
       "      <td>84</td>\n",
       "    </tr>\n",
       "    <tr>\n",
       "      <th>고양 히어로즈</th>\n",
       "      <td>15</td>\n",
       "      <td>15</td>\n",
       "      <td>15</td>\n",
       "      <td>15</td>\n",
       "      <td>15</td>\n",
       "    </tr>\n",
       "    <tr>\n",
       "      <th>두산 베어스</th>\n",
       "      <td>92</td>\n",
       "      <td>92</td>\n",
       "      <td>92</td>\n",
       "      <td>92</td>\n",
       "      <td>92</td>\n",
       "    </tr>\n",
       "    <tr>\n",
       "      <th>롯데 자이언츠</th>\n",
       "      <td>82</td>\n",
       "      <td>82</td>\n",
       "      <td>82</td>\n",
       "      <td>82</td>\n",
       "      <td>82</td>\n",
       "    </tr>\n",
       "    <tr>\n",
       "      <th>삼성 라이온즈</th>\n",
       "      <td>83</td>\n",
       "      <td>83</td>\n",
       "      <td>83</td>\n",
       "      <td>83</td>\n",
       "      <td>83</td>\n",
       "    </tr>\n",
       "    <tr>\n",
       "      <th>상무</th>\n",
       "      <td>17</td>\n",
       "      <td>17</td>\n",
       "      <td>17</td>\n",
       "      <td>17</td>\n",
       "      <td>17</td>\n",
       "    </tr>\n",
       "    <tr>\n",
       "      <th>키움 히어로즈</th>\n",
       "      <td>65</td>\n",
       "      <td>65</td>\n",
       "      <td>65</td>\n",
       "      <td>65</td>\n",
       "      <td>65</td>\n",
       "    </tr>\n",
       "    <tr>\n",
       "      <th>한화 이글스</th>\n",
       "      <td>95</td>\n",
       "      <td>95</td>\n",
       "      <td>95</td>\n",
       "      <td>95</td>\n",
       "      <td>95</td>\n",
       "    </tr>\n",
       "  </tbody>\n",
       "</table>\n",
       "</div>"
      ],
      "text/plain": [
       "          Unnamed: 0  playerID  name  salary  position\n",
       "team                                                  \n",
       "KIA 타이거즈          84        84    84      84        84\n",
       "KT 위즈             97        97    97      97        97\n",
       "LG 트윈스            85        85    85      85        85\n",
       "NC 다이노스           94        94    94      94        94\n",
       "SK 와이번스           84        84    84      84        84\n",
       "고양 히어로즈           15        15    15      15        15\n",
       "두산 베어스            92        92    92      92        92\n",
       "롯데 자이언츠           82        82    82      82        82\n",
       "삼성 라이온즈           83        83    83      83        83\n",
       "상무                17        17    17      17        17\n",
       "키움 히어로즈           65        65    65      65        65\n",
       "한화 이글스            95        95    95      95        95"
      ]
     },
     "execution_count": 47,
     "metadata": {},
     "output_type": "execute_result"
    }
   ],
   "source": [
    "all_players.groupby(\"team\").count()"
   ]
  },
  {
   "cell_type": "markdown",
   "metadata": {},
   "source": [
    "### 현재 총 893명의 선수가 등록되어 있으며, 군복무 중인 선수들의 팀인 상무와 퓨처스 리그인 고양 히어로즈는 제외하도록 하자"
   ]
  },
  {
   "cell_type": "code",
   "execution_count": 48,
   "metadata": {},
   "outputs": [],
   "source": [
    "all_players['team'] = all_players['team'].apply(lambda x: x.rstrip())"
   ]
  },
  {
   "cell_type": "code",
   "execution_count": 49,
   "metadata": {},
   "outputs": [],
   "source": [
    "all_players = all_players[ (all_players['team']!='상무') & (all_players['team']!='고양 히어로즈') ]"
   ]
  },
  {
   "cell_type": "code",
   "execution_count": 50,
   "metadata": {},
   "outputs": [],
   "source": [
    "team_info = all_players.groupby(\"team\").count()"
   ]
  },
  {
   "cell_type": "code",
   "execution_count": 51,
   "metadata": {},
   "outputs": [
    {
     "data": {
      "text/html": [
       "<div>\n",
       "<style scoped>\n",
       "    .dataframe tbody tr th:only-of-type {\n",
       "        vertical-align: middle;\n",
       "    }\n",
       "\n",
       "    .dataframe tbody tr th {\n",
       "        vertical-align: top;\n",
       "    }\n",
       "\n",
       "    .dataframe thead th {\n",
       "        text-align: right;\n",
       "    }\n",
       "</style>\n",
       "<table border=\"1\" class=\"dataframe\">\n",
       "  <thead>\n",
       "    <tr style=\"text-align: right;\">\n",
       "      <th></th>\n",
       "      <th>Unnamed: 0</th>\n",
       "      <th>playerID</th>\n",
       "      <th>name</th>\n",
       "      <th>salary</th>\n",
       "      <th>position</th>\n",
       "    </tr>\n",
       "    <tr>\n",
       "      <th>team</th>\n",
       "      <th></th>\n",
       "      <th></th>\n",
       "      <th></th>\n",
       "      <th></th>\n",
       "      <th></th>\n",
       "    </tr>\n",
       "  </thead>\n",
       "  <tbody>\n",
       "    <tr>\n",
       "      <th>KIA 타이거즈</th>\n",
       "      <td>84</td>\n",
       "      <td>84</td>\n",
       "      <td>84</td>\n",
       "      <td>84</td>\n",
       "      <td>84</td>\n",
       "    </tr>\n",
       "    <tr>\n",
       "      <th>KT 위즈</th>\n",
       "      <td>97</td>\n",
       "      <td>97</td>\n",
       "      <td>97</td>\n",
       "      <td>97</td>\n",
       "      <td>97</td>\n",
       "    </tr>\n",
       "    <tr>\n",
       "      <th>LG 트윈스</th>\n",
       "      <td>85</td>\n",
       "      <td>85</td>\n",
       "      <td>85</td>\n",
       "      <td>85</td>\n",
       "      <td>85</td>\n",
       "    </tr>\n",
       "    <tr>\n",
       "      <th>NC 다이노스</th>\n",
       "      <td>94</td>\n",
       "      <td>94</td>\n",
       "      <td>94</td>\n",
       "      <td>94</td>\n",
       "      <td>94</td>\n",
       "    </tr>\n",
       "    <tr>\n",
       "      <th>SK 와이번스</th>\n",
       "      <td>84</td>\n",
       "      <td>84</td>\n",
       "      <td>84</td>\n",
       "      <td>84</td>\n",
       "      <td>84</td>\n",
       "    </tr>\n",
       "    <tr>\n",
       "      <th>두산 베어스</th>\n",
       "      <td>92</td>\n",
       "      <td>92</td>\n",
       "      <td>92</td>\n",
       "      <td>92</td>\n",
       "      <td>92</td>\n",
       "    </tr>\n",
       "    <tr>\n",
       "      <th>롯데 자이언츠</th>\n",
       "      <td>82</td>\n",
       "      <td>82</td>\n",
       "      <td>82</td>\n",
       "      <td>82</td>\n",
       "      <td>82</td>\n",
       "    </tr>\n",
       "    <tr>\n",
       "      <th>삼성 라이온즈</th>\n",
       "      <td>83</td>\n",
       "      <td>83</td>\n",
       "      <td>83</td>\n",
       "      <td>83</td>\n",
       "      <td>83</td>\n",
       "    </tr>\n",
       "    <tr>\n",
       "      <th>키움 히어로즈</th>\n",
       "      <td>65</td>\n",
       "      <td>65</td>\n",
       "      <td>65</td>\n",
       "      <td>65</td>\n",
       "      <td>65</td>\n",
       "    </tr>\n",
       "    <tr>\n",
       "      <th>한화 이글스</th>\n",
       "      <td>95</td>\n",
       "      <td>95</td>\n",
       "      <td>95</td>\n",
       "      <td>95</td>\n",
       "      <td>95</td>\n",
       "    </tr>\n",
       "  </tbody>\n",
       "</table>\n",
       "</div>"
      ],
      "text/plain": [
       "          Unnamed: 0  playerID  name  salary  position\n",
       "team                                                  \n",
       "KIA 타이거즈          84        84    84      84        84\n",
       "KT 위즈             97        97    97      97        97\n",
       "LG 트윈스            85        85    85      85        85\n",
       "NC 다이노스           94        94    94      94        94\n",
       "SK 와이번스           84        84    84      84        84\n",
       "두산 베어스            92        92    92      92        92\n",
       "롯데 자이언츠           82        82    82      82        82\n",
       "삼성 라이온즈           83        83    83      83        83\n",
       "키움 히어로즈           65        65    65      65        65\n",
       "한화 이글스            95        95    95      95        95"
      ]
     },
     "execution_count": 51,
     "metadata": {},
     "output_type": "execute_result"
    }
   ],
   "source": [
    "team_info"
   ]
  },
  {
   "cell_type": "markdown",
   "metadata": {},
   "source": [
    "### 선수들의 연봉을 시각화 해보자"
   ]
  },
  {
   "cell_type": "code",
   "execution_count": 62,
   "metadata": {},
   "outputs": [
    {
     "data": {
      "text/plain": [
       "Text(0, 0.5, '사람 수')"
      ]
     },
     "execution_count": 62,
     "metadata": {},
     "output_type": "execute_result"
    },
    {
     "data": {
      "image/png": "[encoded data removed]",
      "text/plain": [
       "<Figure size 432x288 with 1 Axes>"
      ]
     },
     "metadata": {
      "needs_background": "light"
     },
     "output_type": "display_data"
    }
   ],
   "source": [
    "plt.hist(all_players['salary'], bins=20)\n",
    "plt.title(\"KBO 선수들 연봉 분포도\")\n",
    "plt.xlabel(\"단위 만원\")\n",
    "plt.ylabel(\"사람 수\")"
   ]
  },
  {
   "cell_type": "markdown",
   "metadata": {},
   "source": [
    "### 그래프가 한쪽에 치우침이 심해서 잘 나타나지 않는다. 연봉 1억 미만으로 상한선을 둬보자"
   ]
  },
  {
   "cell_type": "code",
   "execution_count": 66,
   "metadata": {},
   "outputs": [
    {
     "data": {
      "text/plain": [
       "Text(0, 0.5, '사람 수')"
      ]
     },
     "execution_count": 66,
     "metadata": {},
     "output_type": "execute_result"
    },
    {
     "data": {
      "image/png": "[encoded data removed]",
      "text/plain": [
       "<Figure size 432x288 with 1 Axes>"
      ]
     },
     "metadata": {
      "needs_background": "light"
     },
     "output_type": "display_data"
    }
   ],
   "source": [
    "plt.hist(all_players[all_players['salary']<10000]['salary'], bins=20)\n",
    "plt.title(\"KBO 선수들 연봉 분포도\")\n",
    "plt.xlabel(\"단위 만원\")\n",
    "plt.ylabel(\"사람 수\")"
   ]
  },
  {
   "cell_type": "markdown",
   "metadata": {},
   "source": [
    "### 800명 가량의 선수 중에서 400명 넘는 선수가 3000만원 이하의 연봉을 받고 있다."
   ]
  },
  {
   "cell_type": "markdown",
   "metadata": {},
   "source": [
    "### 1군 선수 중에서 주전 선수들로 범위를 좁혀보자"
   ]
  },
  {
   "cell_type": "code",
   "execution_count": 107,
   "metadata": {},
   "outputs": [],
   "source": [
    "group1_salary = group1[['선수명', '팀명', '연봉']]"
   ]
  },
  {
   "cell_type": "code",
   "execution_count": 108,
   "metadata": {},
   "outputs": [
    {
     "data": {
      "text/html": [
       "<div>\n",
       "<style scoped>\n",
       "    .dataframe tbody tr th:only-of-type {\n",
       "        vertical-align: middle;\n",
       "    }\n",
       "\n",
       "    .dataframe tbody tr th {\n",
       "        vertical-align: top;\n",
       "    }\n",
       "\n",
       "    .dataframe thead th {\n",
       "        text-align: right;\n",
       "    }\n",
       "</style>\n",
       "<table border=\"1\" class=\"dataframe\">\n",
       "  <thead>\n",
       "    <tr style=\"text-align: right;\">\n",
       "      <th></th>\n",
       "      <th>선수명</th>\n",
       "      <th>팀명</th>\n",
       "      <th>연봉</th>\n",
       "    </tr>\n",
       "  </thead>\n",
       "  <tbody>\n",
       "    <tr>\n",
       "      <th>0</th>\n",
       "      <td>조수행</td>\n",
       "      <td>두산</td>\n",
       "      <td>4500만원</td>\n",
       "    </tr>\n",
       "    <tr>\n",
       "      <th>1</th>\n",
       "      <td>페르난데스</td>\n",
       "      <td>두산</td>\n",
       "      <td>400000달러</td>\n",
       "    </tr>\n",
       "    <tr>\n",
       "      <th>2</th>\n",
       "      <td>허경민</td>\n",
       "      <td>두산</td>\n",
       "      <td>48000만원</td>\n",
       "    </tr>\n",
       "    <tr>\n",
       "      <th>3</th>\n",
       "      <td>오재일</td>\n",
       "      <td>두산</td>\n",
       "      <td>47000만원</td>\n",
       "    </tr>\n",
       "    <tr>\n",
       "      <th>4</th>\n",
       "      <td>신성현</td>\n",
       "      <td>두산</td>\n",
       "      <td>4800만원</td>\n",
       "    </tr>\n",
       "    <tr>\n",
       "      <th>...</th>\n",
       "      <td>...</td>\n",
       "      <td>...</td>\n",
       "      <td>...</td>\n",
       "    </tr>\n",
       "    <tr>\n",
       "      <th>331</th>\n",
       "      <td>정영일</td>\n",
       "      <td>SK</td>\n",
       "      <td>11000만원</td>\n",
       "    </tr>\n",
       "    <tr>\n",
       "      <th>332</th>\n",
       "      <td>조영우</td>\n",
       "      <td>SK</td>\n",
       "      <td>3300만원</td>\n",
       "    </tr>\n",
       "    <tr>\n",
       "      <th>333</th>\n",
       "      <td>하재훈</td>\n",
       "      <td>SK</td>\n",
       "      <td>15000만원</td>\n",
       "    </tr>\n",
       "    <tr>\n",
       "      <th>334</th>\n",
       "      <td>현원회</td>\n",
       "      <td>SK</td>\n",
       "      <td>2700만원</td>\n",
       "    </tr>\n",
       "    <tr>\n",
       "      <th>335</th>\n",
       "      <td>화이트</td>\n",
       "      <td>SK</td>\n",
       "      <td>NaN</td>\n",
       "    </tr>\n",
       "  </tbody>\n",
       "</table>\n",
       "<p>336 rows × 3 columns</p>\n",
       "</div>"
      ],
      "text/plain": [
       "       선수명  팀명        연봉\n",
       "0      조수행  두산    4500만원\n",
       "1    페르난데스  두산  400000달러\n",
       "2      허경민  두산   48000만원\n",
       "3      오재일  두산   47000만원\n",
       "4      신성현  두산    4800만원\n",
       "..     ...  ..       ...\n",
       "331    정영일  SK   11000만원\n",
       "332    조영우  SK    3300만원\n",
       "333    하재훈  SK   15000만원\n",
       "334    현원회  SK    2700만원\n",
       "335    화이트  SK       NaN\n",
       "\n",
       "[336 rows x 3 columns]"
      ]
     },
     "execution_count": 108,
     "metadata": {},
     "output_type": "execute_result"
    }
   ],
   "source": [
    "group1_salary"
   ]
  },
  {
   "cell_type": "code",
   "execution_count": 109,
   "metadata": {},
   "outputs": [],
   "source": [
    "# 결측치를 제거해주자\n",
    "group1_salary = group1_salary.dropna(axis=0)"
   ]
  },
  {
   "cell_type": "code",
   "execution_count": 110,
   "metadata": {},
   "outputs": [
    {
     "data": {
      "text/html": [
       "<div>\n",
       "<style scoped>\n",
       "    .dataframe tbody tr th:only-of-type {\n",
       "        vertical-align: middle;\n",
       "    }\n",
       "\n",
       "    .dataframe tbody tr th {\n",
       "        vertical-align: top;\n",
       "    }\n",
       "\n",
       "    .dataframe thead th {\n",
       "        text-align: right;\n",
       "    }\n",
       "</style>\n",
       "<table border=\"1\" class=\"dataframe\">\n",
       "  <thead>\n",
       "    <tr style=\"text-align: right;\">\n",
       "      <th></th>\n",
       "      <th>선수명</th>\n",
       "      <th>팀명</th>\n",
       "      <th>연봉</th>\n",
       "    </tr>\n",
       "  </thead>\n",
       "  <tbody>\n",
       "    <tr>\n",
       "      <th>0</th>\n",
       "      <td>조수행</td>\n",
       "      <td>두산</td>\n",
       "      <td>4500만원</td>\n",
       "    </tr>\n",
       "    <tr>\n",
       "      <th>1</th>\n",
       "      <td>페르난데스</td>\n",
       "      <td>두산</td>\n",
       "      <td>400000달러</td>\n",
       "    </tr>\n",
       "    <tr>\n",
       "      <th>2</th>\n",
       "      <td>허경민</td>\n",
       "      <td>두산</td>\n",
       "      <td>48000만원</td>\n",
       "    </tr>\n",
       "    <tr>\n",
       "      <th>3</th>\n",
       "      <td>오재일</td>\n",
       "      <td>두산</td>\n",
       "      <td>47000만원</td>\n",
       "    </tr>\n",
       "    <tr>\n",
       "      <th>4</th>\n",
       "      <td>신성현</td>\n",
       "      <td>두산</td>\n",
       "      <td>4800만원</td>\n",
       "    </tr>\n",
       "    <tr>\n",
       "      <th>...</th>\n",
       "      <td>...</td>\n",
       "      <td>...</td>\n",
       "      <td>...</td>\n",
       "    </tr>\n",
       "    <tr>\n",
       "      <th>330</th>\n",
       "      <td>오원석</td>\n",
       "      <td>SK</td>\n",
       "      <td>2700만원</td>\n",
       "    </tr>\n",
       "    <tr>\n",
       "      <th>331</th>\n",
       "      <td>정영일</td>\n",
       "      <td>SK</td>\n",
       "      <td>11000만원</td>\n",
       "    </tr>\n",
       "    <tr>\n",
       "      <th>332</th>\n",
       "      <td>조영우</td>\n",
       "      <td>SK</td>\n",
       "      <td>3300만원</td>\n",
       "    </tr>\n",
       "    <tr>\n",
       "      <th>333</th>\n",
       "      <td>하재훈</td>\n",
       "      <td>SK</td>\n",
       "      <td>15000만원</td>\n",
       "    </tr>\n",
       "    <tr>\n",
       "      <th>334</th>\n",
       "      <td>현원회</td>\n",
       "      <td>SK</td>\n",
       "      <td>2700만원</td>\n",
       "    </tr>\n",
       "  </tbody>\n",
       "</table>\n",
       "<p>335 rows × 3 columns</p>\n",
       "</div>"
      ],
      "text/plain": [
       "       선수명  팀명        연봉\n",
       "0      조수행  두산    4500만원\n",
       "1    페르난데스  두산  400000달러\n",
       "2      허경민  두산   48000만원\n",
       "3      오재일  두산   47000만원\n",
       "4      신성현  두산    4800만원\n",
       "..     ...  ..       ...\n",
       "330    오원석  SK    2700만원\n",
       "331    정영일  SK   11000만원\n",
       "332    조영우  SK    3300만원\n",
       "333    하재훈  SK   15000만원\n",
       "334    현원회  SK    2700만원\n",
       "\n",
       "[335 rows x 3 columns]"
      ]
     },
     "execution_count": 110,
     "metadata": {},
     "output_type": "execute_result"
    }
   ],
   "source": [
    "group1_salary"
   ]
  },
  {
   "cell_type": "markdown",
   "metadata": {},
   "source": [
    "### 선수들의 연봉을 숫자형으로 바꿔주고, 달러로 받는 용병 투수들의 금액을 1.1배하여 한화로 환산해주자"
   ]
  },
  {
   "cell_type": "code",
   "execution_count": 111,
   "metadata": {},
   "outputs": [
    {
     "name": "stderr",
     "output_type": "stream",
     "text": [
      "C:\\Users\\injoo\\Anaconda3\\lib\\site-packages\\ipykernel_launcher.py:1: SettingWithCopyWarning: \n",
      "A value is trying to be set on a copy of a slice from a DataFrame.\n",
      "Try using .loc[row_indexer,col_indexer] = value instead\n",
      "\n",
      "See the caveats in the documentation: https://pandas.pydata.org/pandas-docs/stable/user_guide/indexing.html#returning-a-view-versus-a-copy\n",
      "  \"\"\"Entry point for launching an IPython kernel.\n"
     ]
    }
   ],
   "source": [
    "group1_salary['연봉'] = group1_salary['연봉'].apply(lambda x: x.rstrip())"
   ]
  },
  {
   "cell_type": "code",
   "execution_count": 181,
   "metadata": {},
   "outputs": [],
   "source": [
    "def change_salary(x):\n",
    "    if x[-2:]==\"만원\":\n",
    "        return int(x[:-2])\n",
    "    else:\n",
    "        tmp = x[:-2]\n",
    "        tmp = int(tmp)\n",
    "        tmp /=10\n",
    "        tmp *= 1.1\n",
    "        return int(tmp)"
   ]
  },
  {
   "cell_type": "code",
   "execution_count": 113,
   "metadata": {},
   "outputs": [
    {
     "name": "stderr",
     "output_type": "stream",
     "text": [
      "C:\\Users\\injoo\\Anaconda3\\lib\\site-packages\\ipykernel_launcher.py:1: SettingWithCopyWarning: \n",
      "A value is trying to be set on a copy of a slice from a DataFrame.\n",
      "Try using .loc[row_indexer,col_indexer] = value instead\n",
      "\n",
      "See the caveats in the documentation: https://pandas.pydata.org/pandas-docs/stable/user_guide/indexing.html#returning-a-view-versus-a-copy\n",
      "  \"\"\"Entry point for launching an IPython kernel.\n"
     ]
    }
   ],
   "source": [
    "group1_salary['연봉'] = group1_salary['연봉'].apply(lambda x: change_salary(x))"
   ]
  },
  {
   "cell_type": "code",
   "execution_count": 114,
   "metadata": {},
   "outputs": [
    {
     "data": {
      "text/html": [
       "<div>\n",
       "<style scoped>\n",
       "    .dataframe tbody tr th:only-of-type {\n",
       "        vertical-align: middle;\n",
       "    }\n",
       "\n",
       "    .dataframe tbody tr th {\n",
       "        vertical-align: top;\n",
       "    }\n",
       "\n",
       "    .dataframe thead th {\n",
       "        text-align: right;\n",
       "    }\n",
       "</style>\n",
       "<table border=\"1\" class=\"dataframe\">\n",
       "  <thead>\n",
       "    <tr style=\"text-align: right;\">\n",
       "      <th></th>\n",
       "      <th>선수명</th>\n",
       "      <th>팀명</th>\n",
       "      <th>연봉</th>\n",
       "    </tr>\n",
       "  </thead>\n",
       "  <tbody>\n",
       "    <tr>\n",
       "      <th>0</th>\n",
       "      <td>조수행</td>\n",
       "      <td>두산</td>\n",
       "      <td>4500.0</td>\n",
       "    </tr>\n",
       "    <tr>\n",
       "      <th>1</th>\n",
       "      <td>페르난데스</td>\n",
       "      <td>두산</td>\n",
       "      <td>44000.0</td>\n",
       "    </tr>\n",
       "    <tr>\n",
       "      <th>2</th>\n",
       "      <td>허경민</td>\n",
       "      <td>두산</td>\n",
       "      <td>48000.0</td>\n",
       "    </tr>\n",
       "    <tr>\n",
       "      <th>3</th>\n",
       "      <td>오재일</td>\n",
       "      <td>두산</td>\n",
       "      <td>47000.0</td>\n",
       "    </tr>\n",
       "    <tr>\n",
       "      <th>4</th>\n",
       "      <td>신성현</td>\n",
       "      <td>두산</td>\n",
       "      <td>4800.0</td>\n",
       "    </tr>\n",
       "    <tr>\n",
       "      <th>...</th>\n",
       "      <td>...</td>\n",
       "      <td>...</td>\n",
       "      <td>...</td>\n",
       "    </tr>\n",
       "    <tr>\n",
       "      <th>330</th>\n",
       "      <td>오원석</td>\n",
       "      <td>SK</td>\n",
       "      <td>2700.0</td>\n",
       "    </tr>\n",
       "    <tr>\n",
       "      <th>331</th>\n",
       "      <td>정영일</td>\n",
       "      <td>SK</td>\n",
       "      <td>11000.0</td>\n",
       "    </tr>\n",
       "    <tr>\n",
       "      <th>332</th>\n",
       "      <td>조영우</td>\n",
       "      <td>SK</td>\n",
       "      <td>3300.0</td>\n",
       "    </tr>\n",
       "    <tr>\n",
       "      <th>333</th>\n",
       "      <td>하재훈</td>\n",
       "      <td>SK</td>\n",
       "      <td>15000.0</td>\n",
       "    </tr>\n",
       "    <tr>\n",
       "      <th>334</th>\n",
       "      <td>현원회</td>\n",
       "      <td>SK</td>\n",
       "      <td>2700.0</td>\n",
       "    </tr>\n",
       "  </tbody>\n",
       "</table>\n",
       "<p>335 rows × 3 columns</p>\n",
       "</div>"
      ],
      "text/plain": [
       "       선수명  팀명       연봉\n",
       "0      조수행  두산   4500.0\n",
       "1    페르난데스  두산  44000.0\n",
       "2      허경민  두산  48000.0\n",
       "3      오재일  두산  47000.0\n",
       "4      신성현  두산   4800.0\n",
       "..     ...  ..      ...\n",
       "330    오원석  SK   2700.0\n",
       "331    정영일  SK  11000.0\n",
       "332    조영우  SK   3300.0\n",
       "333    하재훈  SK  15000.0\n",
       "334    현원회  SK   2700.0\n",
       "\n",
       "[335 rows x 3 columns]"
      ]
     },
     "execution_count": 114,
     "metadata": {},
     "output_type": "execute_result"
    }
   ],
   "source": [
    "group1_salary"
   ]
  },
  {
   "cell_type": "code",
   "execution_count": 118,
   "metadata": {},
   "outputs": [
    {
     "data": {
      "text/plain": [
       "Text(0, 0.5, '사람 수')"
      ]
     },
     "execution_count": 118,
     "metadata": {},
     "output_type": "execute_result"
    },
    {
     "data": {
      "image/png": "[encoded data removed]",
      "text/plain": [
       "<Figure size 432x288 with 1 Axes>"
      ]
     },
     "metadata": {
      "needs_background": "light"
     },
     "output_type": "display_data"
    }
   ],
   "source": [
    "plt.hist(group1_salary['연봉'], bins=20)\n",
    "plt.title(\"KBO 1군 주전 선수들 연봉 분포도\")\n",
    "plt.xlabel(\"단위 만원\")\n",
    "plt.ylabel(\"사람 수\")"
   ]
  },
  {
   "cell_type": "code",
   "execution_count": 119,
   "metadata": {},
   "outputs": [
    {
     "data": {
      "text/plain": [
       "Text(0, 0.5, '사람 수')"
      ]
     },
     "execution_count": 119,
     "metadata": {},
     "output_type": "execute_result"
    },
    {
     "data": {
      "image/png": "[encoded data removed]",
      "text/plain": [
       "<Figure size 432x288 with 1 Axes>"
      ]
     },
     "metadata": {
      "needs_background": "light"
     },
     "output_type": "display_data"
    }
   ],
   "source": [
    "plt.hist(group1_salary[group1_salary['연봉']<10000]['연봉'], bins=20)\n",
    "plt.title(\"KBO 1군 주전 선수들중 1억 이하  연봉 분포도\")\n",
    "plt.xlabel(\"단위 만원\")\n",
    "plt.ylabel(\"사람 수\")"
   ]
  },
  {
   "cell_type": "markdown",
   "metadata": {},
   "source": [
    "### 1군 주전 선수들도 다른 선수들만큼은 아니지만 편차가 심한 것을 알 수 있다"
   ]
  },
  {
   "cell_type": "markdown",
   "metadata": {},
   "source": [
    "### 선수들을 연봉 분위수에 따라서 카테고리를 나누고, 같은 카테고리 대비 얼마나 성적을 내고 있는지 확인해보자"
   ]
  },
  {
   "cell_type": "code",
   "execution_count": 173,
   "metadata": {},
   "outputs": [],
   "source": [
    "df = group1 = pd.read_csv(r\"C:\\Users\\injoo\\광주 인공지능 사관학교\\웜업 프로젝트\\KBO 데이터 시각화\\Dataset\\player_infos_add_v01.csv\")"
   ]
  },
  {
   "cell_type": "code",
   "execution_count": 172,
   "metadata": {},
   "outputs": [
    {
     "data": {
      "text/plain": [
       "array(['Unnamed: 0', '순위', '선수명', '팀명', '타율', '경기수', '타석', '타수', '득점',\n",
       "       '안타', '2루타', '3루타', '홈런', '루타', '타점', '희생번트', '희생플라이', '선수ID',\n",
       "       '생년월일', '신장', '체중', '입단계약금', '연봉', '지명순위', '볼넷', '고의사구', '사구',\n",
       "       '삼진', '병살타', '장타율', '출루율', '실책', '도루성공률', '멀티히트', '출루율add장타율',\n",
       "       '득점권타율', '대타타율', '사진URL'], dtype=object)"
      ]
     },
     "execution_count": 172,
     "metadata": {},
     "output_type": "execute_result"
    }
   ],
   "source": [
    "df.columns.values"
   ]
  },
  {
   "cell_type": "code",
   "execution_count": 174,
   "metadata": {},
   "outputs": [],
   "source": [
    "df = df.drop(columns=['Unnamed: 0', '순위', '사진URL', '신장', '체중', '입단계약금', '지명순위', '대타타율', '생년월일'])"
   ]
  },
  {
   "cell_type": "code",
   "execution_count": 175,
   "metadata": {},
   "outputs": [
    {
     "data": {
      "text/plain": [
       "array(['선수명', '팀명', '타율', '경기수', '타석', '타수', '득점', '안타', '2루타', '3루타',\n",
       "       '홈런', '루타', '타점', '희생번트', '희생플라이', '선수ID', '연봉', '볼넷', '고의사구',\n",
       "       '사구', '삼진', '병살타', '장타율', '출루율', '실책', '도루성공률', '멀티히트',\n",
       "       '출루율add장타율', '득점권타율'], dtype=object)"
      ]
     },
     "execution_count": 175,
     "metadata": {},
     "output_type": "execute_result"
    }
   ],
   "source": [
    "df.columns.values"
   ]
  },
  {
   "cell_type": "code",
   "execution_count": 184,
   "metadata": {},
   "outputs": [],
   "source": [
    "df = df.dropna(axis=0)"
   ]
  },
  {
   "cell_type": "code",
   "execution_count": 185,
   "metadata": {},
   "outputs": [
    {
     "data": {
      "text/plain": [
       "0        4500만원\n",
       "1      400000달러\n",
       "2       48000만원\n",
       "3       47000만원\n",
       "4        4800만원\n",
       "         ...   \n",
       "330      2700만원\n",
       "331     11000만원\n",
       "332      3300만원\n",
       "333     15000만원\n",
       "334      2700만원\n",
       "Name: 연봉, Length: 335, dtype: object"
      ]
     },
     "execution_count": 185,
     "metadata": {},
     "output_type": "execute_result"
    }
   ],
   "source": [
    "df['연봉']"
   ]
  },
  {
   "cell_type": "code",
   "execution_count": 186,
   "metadata": {},
   "outputs": [],
   "source": [
    "df['연봉'] = df['연봉'].apply(lambda x: change_salary(x))"
   ]
  },
  {
   "cell_type": "markdown",
   "metadata": {},
   "source": [
    "### 타자만 고려해야하니 타석 수가 5개 이상인 타자들만 뽑아내자"
   ]
  },
  {
   "cell_type": "code",
   "execution_count": 202,
   "metadata": {},
   "outputs": [],
   "source": [
    "df = df[ df['타석'] > 5]"
   ]
  },
  {
   "cell_type": "markdown",
   "metadata": {},
   "source": [
    "### 연봉의 분위수를 알아보자"
   ]
  },
  {
   "cell_type": "code",
   "execution_count": 203,
   "metadata": {},
   "outputs": [
    {
     "data": {
      "text/plain": [
       "0.25      3500.0\n",
       "0.50      7000.0\n",
       "0.75     25000.0\n",
       "1.00    250000.0\n",
       "Name: 연봉, dtype: float64"
      ]
     },
     "execution_count": 203,
     "metadata": {},
     "output_type": "execute_result"
    }
   ],
   "source": [
    "df['연봉'].quantile([0.25, 0.5, 0.75, 1])"
   ]
  },
  {
   "cell_type": "code",
   "execution_count": 211,
   "metadata": {},
   "outputs": [],
   "source": [
    "def give_qunatile(x):\n",
    "    if x<=3500:\n",
    "        return \"하위25퍼\"\n",
    "    elif x<=7000:\n",
    "        return \"하위50퍼\"\n",
    "    elif x<=25000:\n",
    "        return \"상위50퍼\"\n",
    "    elif x<=250000:\n",
    "        return \"상위25퍼\""
   ]
  },
  {
   "cell_type": "code",
   "execution_count": 212,
   "metadata": {},
   "outputs": [],
   "source": [
    "df['연봉구간'] = df['연봉'].apply(lambda x: give_qunatile(x))"
   ]
  },
  {
   "cell_type": "code",
   "execution_count": 215,
   "metadata": {},
   "outputs": [
    {
     "data": {
      "text/plain": [
       "array(['선수명', '팀명', '타율', '경기수', '타석', '타수', '득점', '안타', '2루타', '3루타',\n",
       "       '홈런', '루타', '타점', '희생번트', '희생플라이', '선수ID', '연봉', '볼넷', '고의사구',\n",
       "       '사구', '삼진', '병살타', '장타율', '출루율', '실책', '도루성공률', '멀티히트',\n",
       "       '출루율add장타율', '득점권타율', '연봉구간'], dtype=object)"
      ]
     },
     "execution_count": 215,
     "metadata": {},
     "output_type": "execute_result"
    }
   ],
   "source": [
    "df.columns.values"
   ]
  },
  {
   "cell_type": "code",
   "execution_count": 218,
   "metadata": {},
   "outputs": [],
   "source": [
    "group_by_salary = df.groupby('연봉구간').mean().reset_index().round(2)"
   ]
  },
  {
   "cell_type": "code",
   "execution_count": 224,
   "metadata": {},
   "outputs": [],
   "source": [
    "group_by_salary = group_by_salary.set_index('연봉구간')"
   ]
  },
  {
   "cell_type": "code",
   "execution_count": 228,
   "metadata": {},
   "outputs": [],
   "source": [
    "group_by_salary = group_by_salary.drop(columns=[\"선수ID\", \"연봉\"])"
   ]
  },
  {
   "cell_type": "code",
   "execution_count": 231,
   "metadata": {},
   "outputs": [],
   "source": [
    "#연봉 구간을 내림차순으로 정렬해주자\n",
    "group_by_salary = group_by_salary.reindex(['상위25퍼', '상위50퍼', '하위50퍼', '하위25퍼'])"
   ]
  },
  {
   "cell_type": "code",
   "execution_count": 232,
   "metadata": {},
   "outputs": [
    {
     "data": {
      "text/html": [
       "<div>\n",
       "<style scoped>\n",
       "    .dataframe tbody tr th:only-of-type {\n",
       "        vertical-align: middle;\n",
       "    }\n",
       "\n",
       "    .dataframe tbody tr th {\n",
       "        vertical-align: top;\n",
       "    }\n",
       "\n",
       "    .dataframe thead th {\n",
       "        text-align: right;\n",
       "    }\n",
       "</style>\n",
       "<table border=\"1\" class=\"dataframe\">\n",
       "  <thead>\n",
       "    <tr style=\"text-align: right;\">\n",
       "      <th></th>\n",
       "      <th>경기수</th>\n",
       "      <th>타석</th>\n",
       "      <th>타수</th>\n",
       "      <th>득점</th>\n",
       "      <th>안타</th>\n",
       "      <th>2루타</th>\n",
       "      <th>3루타</th>\n",
       "      <th>홈런</th>\n",
       "      <th>루타</th>\n",
       "      <th>타점</th>\n",
       "      <th>희생번트</th>\n",
       "      <th>희생플라이</th>\n",
       "      <th>볼넷</th>\n",
       "      <th>고의사구</th>\n",
       "      <th>사구</th>\n",
       "      <th>삼진</th>\n",
       "      <th>병살타</th>\n",
       "      <th>실책</th>\n",
       "      <th>멀티히트</th>\n",
       "      <th>득점권타율</th>\n",
       "    </tr>\n",
       "    <tr>\n",
       "      <th>연봉구간</th>\n",
       "      <th></th>\n",
       "      <th></th>\n",
       "      <th></th>\n",
       "      <th></th>\n",
       "      <th></th>\n",
       "      <th></th>\n",
       "      <th></th>\n",
       "      <th></th>\n",
       "      <th></th>\n",
       "      <th></th>\n",
       "      <th></th>\n",
       "      <th></th>\n",
       "      <th></th>\n",
       "      <th></th>\n",
       "      <th></th>\n",
       "      <th></th>\n",
       "      <th></th>\n",
       "      <th></th>\n",
       "      <th></th>\n",
       "      <th></th>\n",
       "    </tr>\n",
       "  </thead>\n",
       "  <tbody>\n",
       "    <tr>\n",
       "      <th>상위25퍼</th>\n",
       "      <td>77.57</td>\n",
       "      <td>309.29</td>\n",
       "      <td>271.17</td>\n",
       "      <td>43.59</td>\n",
       "      <td>80.34</td>\n",
       "      <td>14.81</td>\n",
       "      <td>0.91</td>\n",
       "      <td>9.95</td>\n",
       "      <td>126.83</td>\n",
       "      <td>46.00</td>\n",
       "      <td>1.14</td>\n",
       "      <td>2.97</td>\n",
       "      <td>30.07</td>\n",
       "      <td>1.36</td>\n",
       "      <td>3.93</td>\n",
       "      <td>47.16</td>\n",
       "      <td>6.71</td>\n",
       "      <td>3.17</td>\n",
       "      <td>21.79</td>\n",
       "      <td>0.31</td>\n",
       "    </tr>\n",
       "    <tr>\n",
       "      <th>상위50퍼</th>\n",
       "      <td>57.12</td>\n",
       "      <td>174.38</td>\n",
       "      <td>153.71</td>\n",
       "      <td>21.53</td>\n",
       "      <td>40.71</td>\n",
       "      <td>6.16</td>\n",
       "      <td>0.72</td>\n",
       "      <td>3.78</td>\n",
       "      <td>59.64</td>\n",
       "      <td>20.07</td>\n",
       "      <td>1.90</td>\n",
       "      <td>1.28</td>\n",
       "      <td>15.24</td>\n",
       "      <td>0.24</td>\n",
       "      <td>2.26</td>\n",
       "      <td>30.74</td>\n",
       "      <td>3.98</td>\n",
       "      <td>2.86</td>\n",
       "      <td>9.55</td>\n",
       "      <td>0.26</td>\n",
       "    </tr>\n",
       "    <tr>\n",
       "      <th>하위50퍼</th>\n",
       "      <td>39.75</td>\n",
       "      <td>93.78</td>\n",
       "      <td>81.32</td>\n",
       "      <td>12.27</td>\n",
       "      <td>20.45</td>\n",
       "      <td>3.70</td>\n",
       "      <td>0.27</td>\n",
       "      <td>1.60</td>\n",
       "      <td>29.48</td>\n",
       "      <td>10.13</td>\n",
       "      <td>1.20</td>\n",
       "      <td>0.78</td>\n",
       "      <td>9.18</td>\n",
       "      <td>0.12</td>\n",
       "      <td>1.30</td>\n",
       "      <td>19.28</td>\n",
       "      <td>1.78</td>\n",
       "      <td>1.72</td>\n",
       "      <td>4.42</td>\n",
       "      <td>0.22</td>\n",
       "    </tr>\n",
       "    <tr>\n",
       "      <th>하위25퍼</th>\n",
       "      <td>30.79</td>\n",
       "      <td>65.86</td>\n",
       "      <td>59.11</td>\n",
       "      <td>7.98</td>\n",
       "      <td>13.84</td>\n",
       "      <td>2.19</td>\n",
       "      <td>0.25</td>\n",
       "      <td>0.84</td>\n",
       "      <td>19.06</td>\n",
       "      <td>5.27</td>\n",
       "      <td>1.08</td>\n",
       "      <td>0.27</td>\n",
       "      <td>4.70</td>\n",
       "      <td>0.00</td>\n",
       "      <td>0.70</td>\n",
       "      <td>14.13</td>\n",
       "      <td>1.24</td>\n",
       "      <td>1.59</td>\n",
       "      <td>2.81</td>\n",
       "      <td>0.22</td>\n",
       "    </tr>\n",
       "  </tbody>\n",
       "</table>\n",
       "</div>"
      ],
      "text/plain": [
       "         경기수      타석      타수     득점     안타    2루타   3루타    홈런      루타     타점  \\\n",
       "연봉구간                                                                           \n",
       "상위25퍼  77.57  309.29  271.17  43.59  80.34  14.81  0.91  9.95  126.83  46.00   \n",
       "상위50퍼  57.12  174.38  153.71  21.53  40.71   6.16  0.72  3.78   59.64  20.07   \n",
       "하위50퍼  39.75   93.78   81.32  12.27  20.45   3.70  0.27  1.60   29.48  10.13   \n",
       "하위25퍼  30.79   65.86   59.11   7.98  13.84   2.19  0.25  0.84   19.06   5.27   \n",
       "\n",
       "       희생번트  희생플라이     볼넷  고의사구    사구     삼진   병살타    실책   멀티히트  득점권타율  \n",
       "연봉구간                                                                    \n",
       "상위25퍼  1.14   2.97  30.07  1.36  3.93  47.16  6.71  3.17  21.79   0.31  \n",
       "상위50퍼  1.90   1.28  15.24  0.24  2.26  30.74  3.98  2.86   9.55   0.26  \n",
       "하위50퍼  1.20   0.78   9.18  0.12  1.30  19.28  1.78  1.72   4.42   0.22  \n",
       "하위25퍼  1.08   0.27   4.70  0.00  0.70  14.13  1.24  1.59   2.81   0.22  "
      ]
     },
     "execution_count": 232,
     "metadata": {},
     "output_type": "execute_result"
    }
   ],
   "source": [
    "group_by_salary"
   ]
  },
  {
   "cell_type": "code",
   "execution_count": 247,
   "metadata": {},
   "outputs": [],
   "source": [
    "group_by_salary_positive = group_by_salary.iloc[ :, :15]\n",
    "group_by_salary_negative = group_by_salary.iloc[ :, 15:]"
   ]
  },
  {
   "cell_type": "code",
   "execution_count": 283,
   "metadata": {},
   "outputs": [
    {
     "name": "stderr",
     "output_type": "stream",
     "text": [
      "C:\\Users\\injoo\\Anaconda3\\lib\\site-packages\\ipykernel_launcher.py:1: SettingWithCopyWarning: \n",
      "A value is trying to be set on a copy of a slice from a DataFrame.\n",
      "Try using .loc[row_indexer,col_indexer] = value instead\n",
      "\n",
      "See the caveats in the documentation: https://pandas.pydata.org/pandas-docs/stable/user_guide/indexing.html#returning-a-view-versus-a-copy\n",
      "  \"\"\"Entry point for launching an IPython kernel.\n",
      "C:\\Users\\injoo\\Anaconda3\\lib\\site-packages\\ipykernel_launcher.py:2: SettingWithCopyWarning: \n",
      "A value is trying to be set on a copy of a slice from a DataFrame.\n",
      "Try using .loc[row_indexer,col_indexer] = value instead\n",
      "\n",
      "See the caveats in the documentation: https://pandas.pydata.org/pandas-docs/stable/user_guide/indexing.html#returning-a-view-versus-a-copy\n",
      "  \n"
     ]
    }
   ],
   "source": [
    "group_by_salary_positive['멀티히트'] = group_by_salary['멀티히트']\n",
    "group_by_salary_positive['득점권타율'] = group_by_salary['득점권타율']"
   ]
  },
  {
   "cell_type": "code",
   "execution_count": 284,
   "metadata": {},
   "outputs": [
    {
     "data": {
      "text/html": [
       "<div>\n",
       "<style scoped>\n",
       "    .dataframe tbody tr th:only-of-type {\n",
       "        vertical-align: middle;\n",
       "    }\n",
       "\n",
       "    .dataframe tbody tr th {\n",
       "        vertical-align: top;\n",
       "    }\n",
       "\n",
       "    .dataframe thead th {\n",
       "        text-align: right;\n",
       "    }\n",
       "</style>\n",
       "<table border=\"1\" class=\"dataframe\">\n",
       "  <thead>\n",
       "    <tr style=\"text-align: right;\">\n",
       "      <th></th>\n",
       "      <th>경기수</th>\n",
       "      <th>타석</th>\n",
       "      <th>타수</th>\n",
       "      <th>득점</th>\n",
       "      <th>안타</th>\n",
       "      <th>2루타</th>\n",
       "      <th>3루타</th>\n",
       "      <th>홈런</th>\n",
       "      <th>루타</th>\n",
       "      <th>타점</th>\n",
       "      <th>희생번트</th>\n",
       "      <th>희생플라이</th>\n",
       "      <th>볼넷</th>\n",
       "      <th>고의사구</th>\n",
       "      <th>사구</th>\n",
       "      <th>멀티히트</th>\n",
       "      <th>득점권타율</th>\n",
       "    </tr>\n",
       "    <tr>\n",
       "      <th>연봉구간</th>\n",
       "      <th></th>\n",
       "      <th></th>\n",
       "      <th></th>\n",
       "      <th></th>\n",
       "      <th></th>\n",
       "      <th></th>\n",
       "      <th></th>\n",
       "      <th></th>\n",
       "      <th></th>\n",
       "      <th></th>\n",
       "      <th></th>\n",
       "      <th></th>\n",
       "      <th></th>\n",
       "      <th></th>\n",
       "      <th></th>\n",
       "      <th></th>\n",
       "      <th></th>\n",
       "    </tr>\n",
       "  </thead>\n",
       "  <tbody>\n",
       "    <tr>\n",
       "      <th>상위25퍼</th>\n",
       "      <td>77.57</td>\n",
       "      <td>309.29</td>\n",
       "      <td>271.17</td>\n",
       "      <td>43.59</td>\n",
       "      <td>80.34</td>\n",
       "      <td>14.81</td>\n",
       "      <td>0.91</td>\n",
       "      <td>9.95</td>\n",
       "      <td>126.83</td>\n",
       "      <td>46.00</td>\n",
       "      <td>1.14</td>\n",
       "      <td>2.97</td>\n",
       "      <td>30.07</td>\n",
       "      <td>1.36</td>\n",
       "      <td>3.93</td>\n",
       "      <td>21.79</td>\n",
       "      <td>0.31</td>\n",
       "    </tr>\n",
       "    <tr>\n",
       "      <th>상위50퍼</th>\n",
       "      <td>57.12</td>\n",
       "      <td>174.38</td>\n",
       "      <td>153.71</td>\n",
       "      <td>21.53</td>\n",
       "      <td>40.71</td>\n",
       "      <td>6.16</td>\n",
       "      <td>0.72</td>\n",
       "      <td>3.78</td>\n",
       "      <td>59.64</td>\n",
       "      <td>20.07</td>\n",
       "      <td>1.90</td>\n",
       "      <td>1.28</td>\n",
       "      <td>15.24</td>\n",
       "      <td>0.24</td>\n",
       "      <td>2.26</td>\n",
       "      <td>9.55</td>\n",
       "      <td>0.26</td>\n",
       "    </tr>\n",
       "    <tr>\n",
       "      <th>하위50퍼</th>\n",
       "      <td>39.75</td>\n",
       "      <td>93.78</td>\n",
       "      <td>81.32</td>\n",
       "      <td>12.27</td>\n",
       "      <td>20.45</td>\n",
       "      <td>3.70</td>\n",
       "      <td>0.27</td>\n",
       "      <td>1.60</td>\n",
       "      <td>29.48</td>\n",
       "      <td>10.13</td>\n",
       "      <td>1.20</td>\n",
       "      <td>0.78</td>\n",
       "      <td>9.18</td>\n",
       "      <td>0.12</td>\n",
       "      <td>1.30</td>\n",
       "      <td>4.42</td>\n",
       "      <td>0.22</td>\n",
       "    </tr>\n",
       "    <tr>\n",
       "      <th>하위25퍼</th>\n",
       "      <td>30.79</td>\n",
       "      <td>65.86</td>\n",
       "      <td>59.11</td>\n",
       "      <td>7.98</td>\n",
       "      <td>13.84</td>\n",
       "      <td>2.19</td>\n",
       "      <td>0.25</td>\n",
       "      <td>0.84</td>\n",
       "      <td>19.06</td>\n",
       "      <td>5.27</td>\n",
       "      <td>1.08</td>\n",
       "      <td>0.27</td>\n",
       "      <td>4.70</td>\n",
       "      <td>0.00</td>\n",
       "      <td>0.70</td>\n",
       "      <td>2.81</td>\n",
       "      <td>0.22</td>\n",
       "    </tr>\n",
       "  </tbody>\n",
       "</table>\n",
       "</div>"
      ],
      "text/plain": [
       "         경기수      타석      타수     득점     안타    2루타   3루타    홈런      루타     타점  \\\n",
       "연봉구간                                                                           \n",
       "상위25퍼  77.57  309.29  271.17  43.59  80.34  14.81  0.91  9.95  126.83  46.00   \n",
       "상위50퍼  57.12  174.38  153.71  21.53  40.71   6.16  0.72  3.78   59.64  20.07   \n",
       "하위50퍼  39.75   93.78   81.32  12.27  20.45   3.70  0.27  1.60   29.48  10.13   \n",
       "하위25퍼  30.79   65.86   59.11   7.98  13.84   2.19  0.25  0.84   19.06   5.27   \n",
       "\n",
       "       희생번트  희생플라이     볼넷  고의사구    사구   멀티히트  득점권타율  \n",
       "연봉구간                                                 \n",
       "상위25퍼  1.14   2.97  30.07  1.36  3.93  21.79   0.31  \n",
       "상위50퍼  1.90   1.28  15.24  0.24  2.26   9.55   0.26  \n",
       "하위50퍼  1.20   0.78   9.18  0.12  1.30   4.42   0.22  \n",
       "하위25퍼  1.08   0.27   4.70  0.00  0.70   2.81   0.22  "
      ]
     },
     "execution_count": 284,
     "metadata": {},
     "output_type": "execute_result"
    }
   ],
   "source": [
    "group_by_salary_positive"
   ]
  },
  {
   "cell_type": "markdown",
   "metadata": {},
   "source": [
    "### 연봉 상위 구간에서 하위구간으로 갈 수록 긍정적인 요소들은 낮아진다. 특히 하위 25퍼 구간은 루키일 가능성이 많기 때문에 경기수와 타석수가 확연히 차이난다"
   ]
  },
  {
   "cell_type": "code",
   "execution_count": 285,
   "metadata": {},
   "outputs": [
    {
     "ename": "KeyError",
     "evalue": "\"['멀티히트' '득점권타율'] not found in axis\"",
     "output_type": "error",
     "traceback": [
      "\u001b[1;31m---------------------------------------------------------------------------\u001b[0m",
      "\u001b[1;31mKeyError\u001b[0m                                  Traceback (most recent call last)",
      "\u001b[1;32m<ipython-input-285-df02f8ff30ad>\u001b[0m in \u001b[0;36m<module>\u001b[1;34m\u001b[0m\n\u001b[1;32m----> 1\u001b[1;33m \u001b[0mgroup_by_salary_negative\u001b[0m \u001b[1;33m=\u001b[0m \u001b[0mgroup_by_salary_negative\u001b[0m\u001b[1;33m.\u001b[0m\u001b[0mdrop\u001b[0m\u001b[1;33m(\u001b[0m\u001b[0mcolumns\u001b[0m \u001b[1;33m=\u001b[0m \u001b[1;33m[\u001b[0m\u001b[1;34m'멀티히트'\u001b[0m\u001b[1;33m,\u001b[0m \u001b[1;34m'득점권타율'\u001b[0m\u001b[1;33m]\u001b[0m\u001b[1;33m)\u001b[0m\u001b[1;33m\u001b[0m\u001b[1;33m\u001b[0m\u001b[0m\n\u001b[0m",
      "\u001b[1;32m~\\Anaconda3\\lib\\site-packages\\pandas\\core\\frame.py\u001b[0m in \u001b[0;36mdrop\u001b[1;34m(self, labels, axis, index, columns, level, inplace, errors)\u001b[0m\n\u001b[0;32m   3995\u001b[0m             \u001b[0mlevel\u001b[0m\u001b[1;33m=\u001b[0m\u001b[0mlevel\u001b[0m\u001b[1;33m,\u001b[0m\u001b[1;33m\u001b[0m\u001b[1;33m\u001b[0m\u001b[0m\n\u001b[0;32m   3996\u001b[0m             \u001b[0minplace\u001b[0m\u001b[1;33m=\u001b[0m\u001b[0minplace\u001b[0m\u001b[1;33m,\u001b[0m\u001b[1;33m\u001b[0m\u001b[1;33m\u001b[0m\u001b[0m\n\u001b[1;32m-> 3997\u001b[1;33m             \u001b[0merrors\u001b[0m\u001b[1;33m=\u001b[0m\u001b[0merrors\u001b[0m\u001b[1;33m,\u001b[0m\u001b[1;33m\u001b[0m\u001b[1;33m\u001b[0m\u001b[0m\n\u001b[0m\u001b[0;32m   3998\u001b[0m         )\n\u001b[0;32m   3999\u001b[0m \u001b[1;33m\u001b[0m\u001b[0m\n",
      "\u001b[1;32m~\\Anaconda3\\lib\\site-packages\\pandas\\core\\generic.py\u001b[0m in \u001b[0;36mdrop\u001b[1;34m(self, labels, axis, index, columns, level, inplace, errors)\u001b[0m\n\u001b[0;32m   3934\u001b[0m         \u001b[1;32mfor\u001b[0m \u001b[0maxis\u001b[0m\u001b[1;33m,\u001b[0m \u001b[0mlabels\u001b[0m \u001b[1;32min\u001b[0m \u001b[0maxes\u001b[0m\u001b[1;33m.\u001b[0m\u001b[0mitems\u001b[0m\u001b[1;33m(\u001b[0m\u001b[1;33m)\u001b[0m\u001b[1;33m:\u001b[0m\u001b[1;33m\u001b[0m\u001b[1;33m\u001b[0m\u001b[0m\n\u001b[0;32m   3935\u001b[0m             \u001b[1;32mif\u001b[0m \u001b[0mlabels\u001b[0m \u001b[1;32mis\u001b[0m \u001b[1;32mnot\u001b[0m \u001b[1;32mNone\u001b[0m\u001b[1;33m:\u001b[0m\u001b[1;33m\u001b[0m\u001b[1;33m\u001b[0m\u001b[0m\n\u001b[1;32m-> 3936\u001b[1;33m                 \u001b[0mobj\u001b[0m \u001b[1;33m=\u001b[0m \u001b[0mobj\u001b[0m\u001b[1;33m.\u001b[0m\u001b[0m_drop_axis\u001b[0m\u001b[1;33m(\u001b[0m\u001b[0mlabels\u001b[0m\u001b[1;33m,\u001b[0m \u001b[0maxis\u001b[0m\u001b[1;33m,\u001b[0m \u001b[0mlevel\u001b[0m\u001b[1;33m=\u001b[0m\u001b[0mlevel\u001b[0m\u001b[1;33m,\u001b[0m \u001b[0merrors\u001b[0m\u001b[1;33m=\u001b[0m\u001b[0merrors\u001b[0m\u001b[1;33m)\u001b[0m\u001b[1;33m\u001b[0m\u001b[1;33m\u001b[0m\u001b[0m\n\u001b[0m\u001b[0;32m   3937\u001b[0m \u001b[1;33m\u001b[0m\u001b[0m\n\u001b[0;32m   3938\u001b[0m         \u001b[1;32mif\u001b[0m \u001b[0minplace\u001b[0m\u001b[1;33m:\u001b[0m\u001b[1;33m\u001b[0m\u001b[1;33m\u001b[0m\u001b[0m\n",
      "\u001b[1;32m~\\Anaconda3\\lib\\site-packages\\pandas\\core\\generic.py\u001b[0m in \u001b[0;36m_drop_axis\u001b[1;34m(self, labels, axis, level, errors)\u001b[0m\n\u001b[0;32m   3968\u001b[0m                 \u001b[0mnew_axis\u001b[0m \u001b[1;33m=\u001b[0m \u001b[0maxis\u001b[0m\u001b[1;33m.\u001b[0m\u001b[0mdrop\u001b[0m\u001b[1;33m(\u001b[0m\u001b[0mlabels\u001b[0m\u001b[1;33m,\u001b[0m \u001b[0mlevel\u001b[0m\u001b[1;33m=\u001b[0m\u001b[0mlevel\u001b[0m\u001b[1;33m,\u001b[0m \u001b[0merrors\u001b[0m\u001b[1;33m=\u001b[0m\u001b[0merrors\u001b[0m\u001b[1;33m)\u001b[0m\u001b[1;33m\u001b[0m\u001b[1;33m\u001b[0m\u001b[0m\n\u001b[0;32m   3969\u001b[0m             \u001b[1;32melse\u001b[0m\u001b[1;33m:\u001b[0m\u001b[1;33m\u001b[0m\u001b[1;33m\u001b[0m\u001b[0m\n\u001b[1;32m-> 3970\u001b[1;33m                 \u001b[0mnew_axis\u001b[0m \u001b[1;33m=\u001b[0m \u001b[0maxis\u001b[0m\u001b[1;33m.\u001b[0m\u001b[0mdrop\u001b[0m\u001b[1;33m(\u001b[0m\u001b[0mlabels\u001b[0m\u001b[1;33m,\u001b[0m \u001b[0merrors\u001b[0m\u001b[1;33m=\u001b[0m\u001b[0merrors\u001b[0m\u001b[1;33m)\u001b[0m\u001b[1;33m\u001b[0m\u001b[1;33m\u001b[0m\u001b[0m\n\u001b[0m\u001b[0;32m   3971\u001b[0m             \u001b[0mresult\u001b[0m \u001b[1;33m=\u001b[0m \u001b[0mself\u001b[0m\u001b[1;33m.\u001b[0m\u001b[0mreindex\u001b[0m\u001b[1;33m(\u001b[0m\u001b[1;33m**\u001b[0m\u001b[1;33m{\u001b[0m\u001b[0maxis_name\u001b[0m\u001b[1;33m:\u001b[0m \u001b[0mnew_axis\u001b[0m\u001b[1;33m}\u001b[0m\u001b[1;33m)\u001b[0m\u001b[1;33m\u001b[0m\u001b[1;33m\u001b[0m\u001b[0m\n\u001b[0;32m   3972\u001b[0m \u001b[1;33m\u001b[0m\u001b[0m\n",
      "\u001b[1;32m~\\Anaconda3\\lib\\site-packages\\pandas\\core\\indexes\\base.py\u001b[0m in \u001b[0;36mdrop\u001b[1;34m(self, labels, errors)\u001b[0m\n\u001b[0;32m   5016\u001b[0m         \u001b[1;32mif\u001b[0m \u001b[0mmask\u001b[0m\u001b[1;33m.\u001b[0m\u001b[0many\u001b[0m\u001b[1;33m(\u001b[0m\u001b[1;33m)\u001b[0m\u001b[1;33m:\u001b[0m\u001b[1;33m\u001b[0m\u001b[1;33m\u001b[0m\u001b[0m\n\u001b[0;32m   5017\u001b[0m             \u001b[1;32mif\u001b[0m \u001b[0merrors\u001b[0m \u001b[1;33m!=\u001b[0m \u001b[1;34m\"ignore\"\u001b[0m\u001b[1;33m:\u001b[0m\u001b[1;33m\u001b[0m\u001b[1;33m\u001b[0m\u001b[0m\n\u001b[1;32m-> 5018\u001b[1;33m                 \u001b[1;32mraise\u001b[0m \u001b[0mKeyError\u001b[0m\u001b[1;33m(\u001b[0m\u001b[1;34mf\"{labels[mask]} not found in axis\"\u001b[0m\u001b[1;33m)\u001b[0m\u001b[1;33m\u001b[0m\u001b[1;33m\u001b[0m\u001b[0m\n\u001b[0m\u001b[0;32m   5019\u001b[0m             \u001b[0mindexer\u001b[0m \u001b[1;33m=\u001b[0m \u001b[0mindexer\u001b[0m\u001b[1;33m[\u001b[0m\u001b[1;33m~\u001b[0m\u001b[0mmask\u001b[0m\u001b[1;33m]\u001b[0m\u001b[1;33m\u001b[0m\u001b[1;33m\u001b[0m\u001b[0m\n\u001b[0;32m   5020\u001b[0m         \u001b[1;32mreturn\u001b[0m \u001b[0mself\u001b[0m\u001b[1;33m.\u001b[0m\u001b[0mdelete\u001b[0m\u001b[1;33m(\u001b[0m\u001b[0mindexer\u001b[0m\u001b[1;33m)\u001b[0m\u001b[1;33m\u001b[0m\u001b[1;33m\u001b[0m\u001b[0m\n",
      "\u001b[1;31mKeyError\u001b[0m: \"['멀티히트' '득점권타율'] not found in axis\""
     ]
    }
   ],
   "source": [
    "group_by_salary_negative = group_by_salary_negative.drop(columns = ['멀티히트', '득점권타율'])"
   ]
  },
  {
   "cell_type": "code",
   "execution_count": 286,
   "metadata": {},
   "outputs": [],
   "source": [
    "group_by_salary_positive_simple = group_by_salary_positive.drop(columns=['타수', '경기수', '타석', '2루타', '3루타', '루타', '희생번트', '득점권타율', '멀티히트', '사구', '희생플라이', '볼넷'])"
   ]
  },
  {
   "cell_type": "code",
   "execution_count": 290,
   "metadata": {},
   "outputs": [
    {
     "data": {
      "image/png": "[encoded data removed]",
      "text/plain": [
       "<Figure size 432x288 with 1 Axes>"
      ]
     },
     "metadata": {
      "needs_background": "light"
     },
     "output_type": "display_data"
    }
   ],
   "source": [
    "group_by_salary_positive_simple.plot.bar(stacked=True,rot=15, title=\"연봉별 긍정적 기록들\");\n",
    "plt.legend(loc=\"upper right\", bbox_to_anchor=(0.5, -0.15), ncol= 2)\n",
    "plt.show(block=True);"
   ]
  },
  {
   "cell_type": "code",
   "execution_count": 289,
   "metadata": {},
   "outputs": [
    {
     "data": {
      "image/png": "[encoded data removed]",
      "text/plain": [
       "<Figure size 432x288 with 1 Axes>"
      ]
     },
     "metadata": {
      "needs_background": "light"
     },
     "output_type": "display_data"
    }
   ],
   "source": [
    "group_by_salary_negative.plot.bar(stacked=True,rot=15, title=\"연봉별 부정적 기록들\");\n",
    "plt.show(block=True);"
   ]
  },
  {
   "cell_type": "markdown",
   "metadata": {},
   "source": [
    "### 위의 그래프를 보면 연봉이 높은 구간의 선수들일수록 오히려 부정적인 요소들이 많다. 이는 상위권 선수들이 출전 자체를 많이 했기 때문이다"
   ]
  },
  {
   "cell_type": "markdown",
   "metadata": {},
   "source": [
    "## 지금까지의 기록을 보면 대체로 성적과 연봉은 비례한다는 것을 알 수 있었다. "
   ]
  }
 ],
 "metadata": {
  "kernelspec": {
   "display_name": "Python 3",
   "language": "python",
   "name": "python3"
  },
  "language_info": {
   "codemirror_mode": {
    "name": "ipython",
    "version": 3
   },
   "file_extension": ".py",
   "mimetype": "text/x-python",
   "name": "python",
   "nbconvert_exporter": "python",
   "pygments_lexer": "ipython3",
   "version": "3.7.6"
  }
 },
 "nbformat": 4,
 "nbformat_minor": 4
}
