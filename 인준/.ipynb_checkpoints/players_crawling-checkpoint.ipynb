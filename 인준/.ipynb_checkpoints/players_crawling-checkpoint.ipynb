{
 "cells": [
  {
   "cell_type": "code",
   "execution_count": 2,
   "metadata": {},
   "outputs": [],
   "source": [
    "# 데이터 크롤링 모듈\n",
    "from bs4 import BeautifulSoup\n",
    "import re\n",
    "# 데이터 분석 모듈\n",
    "import pandas as pd\n",
    "import numpy as np\n",
    "import matplotlib.pyplot as plt\n",
    "import seaborn as sns\n",
    "import time\n",
    "from datetime import datetime\n",
    "import requests\n",
    "import json"
   ]
  },
  {
   "cell_type": "code",
   "execution_count": 71,
   "metadata": {},
   "outputs": [],
   "source": [
    "import requests\n",
    "\n",
    "cookies = {\n",
    "    '_ga': 'GA1.2.1580790100.1597238208',\n",
    "    'ASP.NET_SessionId': 'acdobzujtne5pbeprhrcmhhh',\n",
    "    '_gid': 'GA1.2.1836254689.1599030529',\n",
    "}\n",
    "\n",
    "headers = {\n",
    "    'Connection': 'keep-alive',\n",
    "    'Cache-Control': 'max-age=0',\n",
    "    'Upgrade-Insecure-Requests': '1',\n",
    "    'User-Agent': 'Mozilla/5.0 (Windows NT 10.0; Win64; x64) AppleWebKit/537.36 (KHTML, like Gecko) Chrome/84.0.4147.135 Safari/537.36',\n",
    "    'Accept': 'text/html,application/xhtml+xml,application/xml;q=0.9,image/webp,image/apng,*/*;q=0.8,application/signed-exchange;v=b3;q=0.9',\n",
    "    'Sec-Fetch-Site': 'none',\n",
    "    'Sec-Fetch-Mode': 'navigate',\n",
    "    'Sec-Fetch-User': '?1',\n",
    "    'Sec-Fetch-Dest': 'document',\n",
    "    'Accept-Language': 'ko-KR,ko;q=0.9,en-US;q=0.8,en;q=0.7',\n",
    "}\n",
    "\n",
    "\n",
    "\n"
   ]
  },
  {
   "cell_type": "code",
   "execution_count": 74,
   "metadata": {},
   "outputs": [],
   "source": [
    "cols = ['name', 'team', 'salary']\n",
    "hitters = pd.DataFrame(columns = cols)"
   ]
  },
  {
   "cell_type": "code",
   "execution_count": null,
   "metadata": {},
   "outputs": [],
   "source": [
    "for i in range(50000, 80000):\n",
    "    print(i)\n",
    "    params = (\n",
    "        ('playerId', str(i)),\n",
    "    )\n",
    "    tmp_dic = {\"name\":None, \"team\":None, \"salary\":None}\n",
    "    response = requests.get('https://www.koreabaseball.com/Record/Player/HitterDetail/Basic.aspx', headers=headers, params=params, cookies=cookies)\n",
    "    \n",
    "    name = re.findall('<span id=\"cphContents_cphContents_cphContents_playerProfile_lblName\">.+</span>', response.text)\n",
    "    name = re.findall('>.+<',str(name))\n",
    "    name = str(name)[3:-3]\n",
    "\n",
    "    team = re.findall('<h4 class=\"team regular.+</h4>', response.text)\n",
    "    team = re.findall('</span>.+</h4>', str(team))\n",
    "    team = str(team)[9:-7]\n",
    "\n",
    "    salary = re.findall('<span id=\"cphContents_cphContents_cphContents_playerProfile_lblSalary\">.+</span>', response.text)\n",
    "    salary = re.findall('>.+<', str(salary))\n",
    "    salary = str(salary)[3:-3]\n",
    "    \n",
    "    if name!=None and team!=None and salary !=None:\n",
    "        tmp_dic[\"name\"] = name\n",
    "        tmp_dic[\"team\"] = team\n",
    "        tmp_dic[\"salary\"] = salary\n",
    "        hitters = hitters.append(tmp_dic, ignore_index= True)\n",
    "\n",
    "hitters\n",
    "        "
   ]
  },
  {
   "cell_type": "code",
   "execution_count": null,
   "metadata": {},
   "outputs": [],
   "source": []
  }
 ],
 "metadata": {
  "kernelspec": {
   "display_name": "Python 3",
   "language": "python",
   "name": "python3"
  },
  "language_info": {
   "codemirror_mode": {
    "name": "ipython",
    "version": 3
   },
   "file_extension": ".py",
   "mimetype": "text/x-python",
   "name": "python",
   "nbconvert_exporter": "python",
   "pygments_lexer": "ipython3",
   "version": "3.7.6"
  }
 },
 "nbformat": 4,
 "nbformat_minor": 4
}
